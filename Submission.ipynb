{
 "cells": [
  {
   "cell_type": "markdown",
   "id": "77ed09f9",
   "metadata": {},
   "source": [
    "# Titanic Dataset\n",
    "\n",
    "## This notebook contains the code used to generate the results that were submitted to Kaggle. It is a compilation/selection of parts of the other notebooks in this repository.\n",
    "\n",
    "### The analysis steps are split into:\n",
    "1. Dataset cleaning and preparation\n",
    "2. Model building and validation\n",
    "3. Model application to test dataset"
   ]
  },
  {
   "cell_type": "code",
   "execution_count": 1,
   "id": "ba050e7b",
   "metadata": {},
   "outputs": [],
   "source": [
    "%matplotlib inline\n",
    "\n",
    "import numpy as np\n",
    "import pandas as pd\n",
    "import matplotlib.pyplot as plt"
   ]
  },
  {
   "cell_type": "code",
   "execution_count": 2,
   "id": "883a8c09",
   "metadata": {},
   "outputs": [],
   "source": [
    "plt.rcParams.update({'font.size': 16})"
   ]
  },
  {
   "cell_type": "markdown",
   "id": "6a86bd5e",
   "metadata": {},
   "source": [
    "## 1. Data cleaning and preparation"
   ]
  },
  {
   "cell_type": "code",
   "execution_count": 3,
   "id": "d02bf49a",
   "metadata": {},
   "outputs": [],
   "source": [
    "data_train = pd.read_csv('data/train.csv')\n",
    "data_test = pd.read_csv('data/test.csv')"
   ]
  },
  {
   "cell_type": "code",
   "execution_count": 4,
   "id": "d459437c",
   "metadata": {},
   "outputs": [
    {
     "data": {
      "text/html": [
       "<div>\n",
       "<style scoped>\n",
       "    .dataframe tbody tr th:only-of-type {\n",
       "        vertical-align: middle;\n",
       "    }\n",
       "\n",
       "    .dataframe tbody tr th {\n",
       "        vertical-align: top;\n",
       "    }\n",
       "\n",
       "    .dataframe thead th {\n",
       "        text-align: right;\n",
       "    }\n",
       "</style>\n",
       "<table border=\"1\" class=\"dataframe\">\n",
       "  <thead>\n",
       "    <tr style=\"text-align: right;\">\n",
       "      <th></th>\n",
       "      <th>PassengerId</th>\n",
       "      <th>Survived</th>\n",
       "      <th>Pclass</th>\n",
       "      <th>Name</th>\n",
       "      <th>Sex</th>\n",
       "      <th>Age</th>\n",
       "      <th>SibSp</th>\n",
       "      <th>Parch</th>\n",
       "      <th>Ticket</th>\n",
       "      <th>Fare</th>\n",
       "      <th>Cabin</th>\n",
       "      <th>Embarked</th>\n",
       "    </tr>\n",
       "  </thead>\n",
       "  <tbody>\n",
       "    <tr>\n",
       "      <th>0</th>\n",
       "      <td>1</td>\n",
       "      <td>0</td>\n",
       "      <td>3</td>\n",
       "      <td>Braund, Mr. Owen Harris</td>\n",
       "      <td>male</td>\n",
       "      <td>22.0</td>\n",
       "      <td>1</td>\n",
       "      <td>0</td>\n",
       "      <td>A/5 21171</td>\n",
       "      <td>7.2500</td>\n",
       "      <td>NaN</td>\n",
       "      <td>S</td>\n",
       "    </tr>\n",
       "    <tr>\n",
       "      <th>1</th>\n",
       "      <td>2</td>\n",
       "      <td>1</td>\n",
       "      <td>1</td>\n",
       "      <td>Cumings, Mrs. John Bradley (Florence Briggs Th...</td>\n",
       "      <td>female</td>\n",
       "      <td>38.0</td>\n",
       "      <td>1</td>\n",
       "      <td>0</td>\n",
       "      <td>PC 17599</td>\n",
       "      <td>71.2833</td>\n",
       "      <td>C85</td>\n",
       "      <td>C</td>\n",
       "    </tr>\n",
       "    <tr>\n",
       "      <th>2</th>\n",
       "      <td>3</td>\n",
       "      <td>1</td>\n",
       "      <td>3</td>\n",
       "      <td>Heikkinen, Miss. Laina</td>\n",
       "      <td>female</td>\n",
       "      <td>26.0</td>\n",
       "      <td>0</td>\n",
       "      <td>0</td>\n",
       "      <td>STON/O2. 3101282</td>\n",
       "      <td>7.9250</td>\n",
       "      <td>NaN</td>\n",
       "      <td>S</td>\n",
       "    </tr>\n",
       "    <tr>\n",
       "      <th>3</th>\n",
       "      <td>4</td>\n",
       "      <td>1</td>\n",
       "      <td>1</td>\n",
       "      <td>Futrelle, Mrs. Jacques Heath (Lily May Peel)</td>\n",
       "      <td>female</td>\n",
       "      <td>35.0</td>\n",
       "      <td>1</td>\n",
       "      <td>0</td>\n",
       "      <td>113803</td>\n",
       "      <td>53.1000</td>\n",
       "      <td>C123</td>\n",
       "      <td>S</td>\n",
       "    </tr>\n",
       "    <tr>\n",
       "      <th>4</th>\n",
       "      <td>5</td>\n",
       "      <td>0</td>\n",
       "      <td>3</td>\n",
       "      <td>Allen, Mr. William Henry</td>\n",
       "      <td>male</td>\n",
       "      <td>35.0</td>\n",
       "      <td>0</td>\n",
       "      <td>0</td>\n",
       "      <td>373450</td>\n",
       "      <td>8.0500</td>\n",
       "      <td>NaN</td>\n",
       "      <td>S</td>\n",
       "    </tr>\n",
       "  </tbody>\n",
       "</table>\n",
       "</div>"
      ],
      "text/plain": [
       "   PassengerId  Survived  Pclass  \\\n",
       "0            1         0       3   \n",
       "1            2         1       1   \n",
       "2            3         1       3   \n",
       "3            4         1       1   \n",
       "4            5         0       3   \n",
       "\n",
       "                                                Name     Sex   Age  SibSp  \\\n",
       "0                            Braund, Mr. Owen Harris    male  22.0      1   \n",
       "1  Cumings, Mrs. John Bradley (Florence Briggs Th...  female  38.0      1   \n",
       "2                             Heikkinen, Miss. Laina  female  26.0      0   \n",
       "3       Futrelle, Mrs. Jacques Heath (Lily May Peel)  female  35.0      1   \n",
       "4                           Allen, Mr. William Henry    male  35.0      0   \n",
       "\n",
       "   Parch            Ticket     Fare Cabin Embarked  \n",
       "0      0         A/5 21171   7.2500   NaN        S  \n",
       "1      0          PC 17599  71.2833   C85        C  \n",
       "2      0  STON/O2. 3101282   7.9250   NaN        S  \n",
       "3      0            113803  53.1000  C123        S  \n",
       "4      0            373450   8.0500   NaN        S  "
      ]
     },
     "execution_count": 4,
     "metadata": {},
     "output_type": "execute_result"
    }
   ],
   "source": [
    "data_train.head()"
   ]
  },
  {
   "cell_type": "code",
   "execution_count": 5,
   "id": "decb0c2c",
   "metadata": {},
   "outputs": [
    {
     "data": {
      "text/html": [
       "<div>\n",
       "<style scoped>\n",
       "    .dataframe tbody tr th:only-of-type {\n",
       "        vertical-align: middle;\n",
       "    }\n",
       "\n",
       "    .dataframe tbody tr th {\n",
       "        vertical-align: top;\n",
       "    }\n",
       "\n",
       "    .dataframe thead th {\n",
       "        text-align: right;\n",
       "    }\n",
       "</style>\n",
       "<table border=\"1\" class=\"dataframe\">\n",
       "  <thead>\n",
       "    <tr style=\"text-align: right;\">\n",
       "      <th></th>\n",
       "      <th>PassengerId</th>\n",
       "      <th>Pclass</th>\n",
       "      <th>Name</th>\n",
       "      <th>Sex</th>\n",
       "      <th>Age</th>\n",
       "      <th>SibSp</th>\n",
       "      <th>Parch</th>\n",
       "      <th>Ticket</th>\n",
       "      <th>Fare</th>\n",
       "      <th>Cabin</th>\n",
       "      <th>Embarked</th>\n",
       "    </tr>\n",
       "  </thead>\n",
       "  <tbody>\n",
       "    <tr>\n",
       "      <th>0</th>\n",
       "      <td>892</td>\n",
       "      <td>3</td>\n",
       "      <td>Kelly, Mr. James</td>\n",
       "      <td>male</td>\n",
       "      <td>34.5</td>\n",
       "      <td>0</td>\n",
       "      <td>0</td>\n",
       "      <td>330911</td>\n",
       "      <td>7.8292</td>\n",
       "      <td>NaN</td>\n",
       "      <td>Q</td>\n",
       "    </tr>\n",
       "    <tr>\n",
       "      <th>1</th>\n",
       "      <td>893</td>\n",
       "      <td>3</td>\n",
       "      <td>Wilkes, Mrs. James (Ellen Needs)</td>\n",
       "      <td>female</td>\n",
       "      <td>47.0</td>\n",
       "      <td>1</td>\n",
       "      <td>0</td>\n",
       "      <td>363272</td>\n",
       "      <td>7.0000</td>\n",
       "      <td>NaN</td>\n",
       "      <td>S</td>\n",
       "    </tr>\n",
       "    <tr>\n",
       "      <th>2</th>\n",
       "      <td>894</td>\n",
       "      <td>2</td>\n",
       "      <td>Myles, Mr. Thomas Francis</td>\n",
       "      <td>male</td>\n",
       "      <td>62.0</td>\n",
       "      <td>0</td>\n",
       "      <td>0</td>\n",
       "      <td>240276</td>\n",
       "      <td>9.6875</td>\n",
       "      <td>NaN</td>\n",
       "      <td>Q</td>\n",
       "    </tr>\n",
       "    <tr>\n",
       "      <th>3</th>\n",
       "      <td>895</td>\n",
       "      <td>3</td>\n",
       "      <td>Wirz, Mr. Albert</td>\n",
       "      <td>male</td>\n",
       "      <td>27.0</td>\n",
       "      <td>0</td>\n",
       "      <td>0</td>\n",
       "      <td>315154</td>\n",
       "      <td>8.6625</td>\n",
       "      <td>NaN</td>\n",
       "      <td>S</td>\n",
       "    </tr>\n",
       "    <tr>\n",
       "      <th>4</th>\n",
       "      <td>896</td>\n",
       "      <td>3</td>\n",
       "      <td>Hirvonen, Mrs. Alexander (Helga E Lindqvist)</td>\n",
       "      <td>female</td>\n",
       "      <td>22.0</td>\n",
       "      <td>1</td>\n",
       "      <td>1</td>\n",
       "      <td>3101298</td>\n",
       "      <td>12.2875</td>\n",
       "      <td>NaN</td>\n",
       "      <td>S</td>\n",
       "    </tr>\n",
       "  </tbody>\n",
       "</table>\n",
       "</div>"
      ],
      "text/plain": [
       "   PassengerId  Pclass                                          Name     Sex  \\\n",
       "0          892       3                              Kelly, Mr. James    male   \n",
       "1          893       3              Wilkes, Mrs. James (Ellen Needs)  female   \n",
       "2          894       2                     Myles, Mr. Thomas Francis    male   \n",
       "3          895       3                              Wirz, Mr. Albert    male   \n",
       "4          896       3  Hirvonen, Mrs. Alexander (Helga E Lindqvist)  female   \n",
       "\n",
       "    Age  SibSp  Parch   Ticket     Fare Cabin Embarked  \n",
       "0  34.5      0      0   330911   7.8292   NaN        Q  \n",
       "1  47.0      1      0   363272   7.0000   NaN        S  \n",
       "2  62.0      0      0   240276   9.6875   NaN        Q  \n",
       "3  27.0      0      0   315154   8.6625   NaN        S  \n",
       "4  22.0      1      1  3101298  12.2875   NaN        S  "
      ]
     },
     "execution_count": 5,
     "metadata": {},
     "output_type": "execute_result"
    }
   ],
   "source": [
    "data_test.head()"
   ]
  },
  {
   "cell_type": "markdown",
   "id": "5beec2fb",
   "metadata": {},
   "source": [
    "### 1.1 Data summary\n",
    "| Variable | Description | Notes |\n",
    "| :- | :- | :- |\n",
    "| PassengerId | | Irrelevant information for classification, however an important spectator for final cross-checking |\n",
    "| Survived | Boolean coded as integer - 0 or 1 | Class label |\n",
    "| Pclass | Ticket class | |\n",
    "| Name | | Irrelevant information for classification and redundant with PassengerId - must be **dropped** |\n",
    "| Sex | Passenger gender | Categorical data to be turned into dummies |\n",
    "| Age | Passenger Age | Ordinal variable |\n",
    "| SibSp | # of siblings / spouses aboard the Titanic | Ordinal variable |\n",
    "| Parch | # of parents / children aboard the Titanic | Ordinal variable |\n",
    "| Ticket | Ticket number | The level of relevance is not clear | \n",
    "| Fare | Passenger fare | The level of relevance is not clear |\n",
    "| Cabin | Cabin number | Very likely irrelevant |\n",
    "| Embark | Port of Embarkation (C, Q or S) | |"
   ]
  },
  {
   "cell_type": "markdown",
   "id": "cedb6bd7",
   "metadata": {},
   "source": [
    "### 1.2 Data cleaning - dropping irrelevant variables "
   ]
  },
  {
   "cell_type": "code",
   "execution_count": 6,
   "id": "d1db0be5",
   "metadata": {},
   "outputs": [],
   "source": [
    "data_train = data_train.drop(columns='Name')\n",
    "data_test = data_test.drop(columns='Name')"
   ]
  },
  {
   "cell_type": "markdown",
   "id": "d510da89",
   "metadata": {},
   "source": [
    "### 1.3 Inspecting single variable distributions"
   ]
  },
  {
   "cell_type": "code",
   "execution_count": 7,
   "id": "706a5b49",
   "metadata": {},
   "outputs": [],
   "source": [
    "## Plotting first numerical variables\n",
    "variables_to_plot = list(data_train.columns)\n",
    "variables_to_plot.remove('PassengerId')\n",
    "\n",
    "# Selecting categorical variables from columns\n",
    "categorical_variables = data_train.select_dtypes(exclude=['number','bool_']).columns\n",
    "\n",
    "# Removing categorical variables from list of variables to plot\n",
    "for v in categorical_variables:\n",
    "    variables_to_plot.remove(v)"
   ]
  },
  {
   "cell_type": "code",
   "execution_count": 8,
   "id": "6c8784ef",
   "metadata": {},
   "outputs": [
    {
     "data": {
      "image/png": "[encoded data removed]",
      "text/plain": [
       "<Figure size 1080x720 with 6 Axes>"
      ]
     },
     "metadata": {
      "needs_background": "light"
     },
     "output_type": "display_data"
    }
   ],
   "source": [
    "fig, axs = plt.subplots(2, 3, figsize=(15, 10))\n",
    "\n",
    "axs = axs.flatten()\n",
    "\n",
    "for var, ax in zip(variables_to_plot, axs):\n",
    "    data_train.hist(var, ax=ax)"
   ]
  },
  {
   "cell_type": "markdown",
   "id": "580f2d8d",
   "metadata": {},
   "source": [
    "***\n",
    "#### Interpretation\n",
    "\n",
    "The numerical variable distributions look all well behaved and no outline is present.\n",
    "***"
   ]
  },
  {
   "cell_type": "code",
   "execution_count": 9,
   "id": "56b5bdab",
   "metadata": {},
   "outputs": [
    {
     "name": "stdout",
     "output_type": "stream",
     "text": [
      "Variable: Sex\n",
      "Len: 2\n",
      "Variable: Ticket\n",
      "Len: 681\n",
      "Variable: Cabin\n",
      "Len: 147\n",
      "Variable: Embarked\n",
      "Len: 3\n"
     ]
    }
   ],
   "source": [
    "## Inspecting categorical variables\n",
    "\n",
    "for var in categorical_variables:\n",
    "    c = data_train[var].value_counts()\n",
    "    print('Variable: {}'.format(var))\n",
    "    print('Len: {}'.format(len(c)))"
   ]
  },
  {
   "cell_type": "markdown",
   "id": "b1d148fe",
   "metadata": {},
   "source": [
    "***\n",
    "#### Interpretation\n",
    "\n",
    "Variables Sex and Embarked contain few values, therefore they can be easily encoded through one-hot encoding.\n",
    "\n",
    "Cabin and Embarked contain a large number of values, therefore one-hot encoding is not an option. These variables will demand specific treatment.\n",
    "***"
   ]
  },
  {
   "cell_type": "markdown",
   "id": "3af17650",
   "metadata": {},
   "source": [
    "### 1.4 Handling Cabin variable"
   ]
  },
  {
   "cell_type": "code",
   "execution_count": 10,
   "id": "cac33e51",
   "metadata": {},
   "outputs": [
    {
     "name": "stdout",
     "output_type": "stream",
     "text": [
      "0.7710437710437711\n"
     ]
    }
   ],
   "source": [
    "# Calculating the ratio of NaN's\n",
    "nan_ratio = data_train['Cabin'].isna().sum() / len(data_train['Cabin'])\n",
    "print(nan_ratio)"
   ]
  },
  {
   "cell_type": "markdown",
   "id": "c28504a5",
   "metadata": {},
   "source": [
    "Since 77% of the examples are missing the Cabin value, I will create another variable to tell whether the example has a cabin number or not. Hopefully this new variable will contain useful information."
   ]
  },
  {
   "cell_type": "code",
   "execution_count": 11,
   "id": "b370e70a",
   "metadata": {},
   "outputs": [],
   "source": [
    "data_train['HasCabin'] = data_train['Cabin'].isna()\n",
    "data_test['HasCabin'] = data_test['Cabin'].isna()\n",
    "\n",
    "data_train = data_train.drop(columns='Cabin')\n",
    "data_test = data_test.drop(columns='Cabin')"
   ]
  },
  {
   "cell_type": "markdown",
   "id": "12c042aa",
   "metadata": {},
   "source": [
    "### 1.5 Handling Ticket variable"
   ]
  },
  {
   "cell_type": "code",
   "execution_count": 12,
   "id": "e80a4fdd",
   "metadata": {},
   "outputs": [
    {
     "data": {
      "text/plain": [
       "array(['110152', '110413', '110465', '110564', '110813', '111240',\n",
       "       '111320', '111361', '111369', '111426', '111427', '111428',\n",
       "       '112050', '112052', '112053', '112058', '112059', '112277',\n",
       "       '112379', '113028', '113043', '113050', '113051', '113055',\n",
       "       '113056', '113059', '113501', '113503', '113505', '113509',\n",
       "       '113510', '113514', '113572', '113760', '113767', '113773',\n",
       "       '113776', '113781', '113783', '113784', '113786', '113787',\n",
       "       '113788', '113789', '113792', '113794', '113796', '113798',\n",
       "       '113800', '113803', '113804', '113806', '113807', '11668', '11751',\n",
       "       '11752', '11753', '11755', '11765', '11767', '11769', '11771',\n",
       "       '11774', '11813', '11967', '12233', '12460', '12749', '13049',\n",
       "       '13213', '13214', '13502', '13507', '13509', '13567', '13568',\n",
       "       '14311', '14312', '14313', '14973', '1601', '16966', '16988',\n",
       "       '17421', '17453', '17463', '17464', '17465', '17466', '17474',\n",
       "       '17764', '19877', '19928', '19943', '19947', '19950', '19952',\n",
       "       '19972', '19988', '19996', '2003', '211536', '21440', '218629',\n",
       "       '219533', '220367', '220845', '2223', '223596', '226593', '226875',\n",
       "       '228414', '229236', '230080', '230136', '230433', '230434',\n",
       "       '231919', '231945', '233639', '233866', '234360', '234604',\n",
       "       '234686', '234818', '236171', '236852', '236853', '237442',\n",
       "       '237565', '237668', '237671', '237736', '237789', '237798',\n",
       "       '239853', '239854', '239855', '239856', '239865', '240929',\n",
       "       '24160', '243847', '243880', '244252', '244270', '244278',\n",
       "       '244310', '244358', '244361', '244367', '244373', '248698',\n",
       "       '248706', '248723', '248727', '248731', '248733', '248738',\n",
       "       '248740', '248747', '250643', '250644', '250646', '250647',\n",
       "       '250648', '250649', '250651', '250652', '250653', '250655', '2620',\n",
       "       '2623', '2624', '2625', '2626', '2627', '2628', '2629', '2631',\n",
       "       '26360', '2641', '2647', '2648', '2649', '2650', '2651', '2653',\n",
       "       '2659', '2661', '2662', '2663', '2664', '2665', '2666', '2667',\n",
       "       '2668', '2669', '26707', '2671', '2672', '2674', '2677', '2678',\n",
       "       '2680', '2683', '2685', '2686', '2687', '2689', '2690', '2691',\n",
       "       '2693', '2694', '2695', '2697', '2699', '2700', '27042', '27267',\n",
       "       '27849', '28134', '28206', '28213', '28220', '28228', '28403',\n",
       "       '28424', '28425', '28551', '28664', '28665', '29011', '2908',\n",
       "       '29103', '29104', '29105', '29106', '29108', '2926', '29750',\n",
       "       '29751', '3101264', '3101265', '3101267', '3101276', '3101277',\n",
       "       '3101278', '3101281', '3101295', '3101296', '3101298', '31027',\n",
       "       '31028', '312991', '312992', '312993', '31418', '315037', '315082',\n",
       "       '315084', '315086', '315088', '315089', '315090', '315093',\n",
       "       '315094', '315096', '315097', '315098', '315151', '315153',\n",
       "       '323592', '323951', '324669', '330877', '330909', '330919',\n",
       "       '330923', '330931', '330932', '330935', '330958', '330959',\n",
       "       '330979', '330980', '334912', '335097', '335677', '33638',\n",
       "       '336439', '3411', '341826', '34218', '342826', '343095', '343120',\n",
       "       '343275', '343276', '345364', '345572', '345763', '345764',\n",
       "       '345765', '345767', '345769', '345770', '345773', '345774',\n",
       "       '345777', '345778', '345779', '345780', '345781', '345783', '3460',\n",
       "       '347054', '347060', '347061', '347062', '347063', '347064',\n",
       "       '347067', '347068', '347069', '347071', '347073', '347074',\n",
       "       '347076', '347077', '347078', '347080', '347081', '347082',\n",
       "       '347083', '347085', '347087', '347088', '347089', '3474', '347464',\n",
       "       '347466', '347468', '347470', '347742', '347743', '348121',\n",
       "       '348123', '348124', '349201', '349203', '349204', '349205',\n",
       "       '349206', '349207', '349208', '349209', '349210', '349212',\n",
       "       '349213', '349214', '349215', '349216', '349217', '349218',\n",
       "       '349219', '349221', '349222', '349223', '349224', '349225',\n",
       "       '349227', '349228', '349231', '349233', '349234', '349236',\n",
       "       '349237', '349239', '349240', '349241', '349242', '349243',\n",
       "       '349244', '349245', '349246', '349247', '349248', '349249',\n",
       "       '349251', '349252', '349253', '349254', '349256', '349257',\n",
       "       '349909', '349910', '349912', '350025', '350026', '350029',\n",
       "       '350034', '350035', '350036', '350042', '350043', '350046',\n",
       "       '350047', '350048', '350050', '350052', '350060', '350404',\n",
       "       '350406', '350407', '350417', '35273', '35281', '35851', '35852',\n",
       "       '358585', '36209', '362316', '363291', '363294', '363592',\n",
       "       '364498', '364499', '364500', '364506', '364511', '364512',\n",
       "       '364516', '364846', '364848', '364849', '364850', '364851',\n",
       "       '365222', '365226', '36568', '367226', '367228', '367229',\n",
       "       '367230', '367231', '367232', '367655', '368323', '36864', '36865',\n",
       "       '36866', '368703', '36928', '36947', '36963', '36967', '36973',\n",
       "       '370129', '370365', '370369', '370370', '370371', '370372',\n",
       "       '370373', '370375', '370376', '370377', '371060', '371110',\n",
       "       '371362', '372622', '373450', '374746', '374887', '374910',\n",
       "       '376564', '376566', '382649', '382651', '382652', '383121',\n",
       "       '384461', '386525', '392091', '392092', '392096', '394140', '4133',\n",
       "       '4134', '4135', '4136', '4137', '4138', '4579', '54636', '5727',\n",
       "       '65303', '65304', '65306', '6563', '693', '695', '7267', '7534',\n",
       "       '7540', '7545', '7546', '7552', '7553', '7598', '8471', '8475',\n",
       "       '9234', 'A./5. 2152', 'A./5. 3235', 'A.5. 11206', 'A.5. 18509',\n",
       "       'A/4 45380', 'A/4 48871', 'A/4. 20589', 'A/4. 34244', 'A/4. 39886',\n",
       "       'A/5 21171', 'A/5 21172', 'A/5 21173', 'A/5 21174', 'A/5 2466',\n",
       "       'A/5 2817', 'A/5 3536', 'A/5 3540', 'A/5 3594', 'A/5 3902',\n",
       "       'A/5. 10482', 'A/5. 13032', 'A/5. 2151', 'A/5. 3336', 'A/5. 3337',\n",
       "       'A/5. 851', 'A/S 2816', 'A4. 54510', 'C 17369', 'C 4001', 'C 7075',\n",
       "       'C 7076', 'C 7077', 'C.A. 17248', 'C.A. 18723', 'C.A. 2315',\n",
       "       'C.A. 24579', 'C.A. 24580', 'C.A. 2673', 'C.A. 29178',\n",
       "       'C.A. 29395', 'C.A. 29566', 'C.A. 31026', 'C.A. 31921',\n",
       "       'C.A. 33111', 'C.A. 33112', 'C.A. 33595', 'C.A. 34260',\n",
       "       'C.A. 34651', 'C.A. 37671', 'C.A. 5547', 'C.A. 6212',\n",
       "       'C.A./SOTON 34068', 'CA 2144', 'CA. 2314', 'CA. 2343',\n",
       "       'F.C. 12750', 'F.C.C. 13528', 'F.C.C. 13529', 'F.C.C. 13531',\n",
       "       'Fa 265302', 'LINE', 'P/PP 3381', 'PC 17318', 'PC 17473',\n",
       "       'PC 17474', 'PC 17475', 'PC 17476', 'PC 17477', 'PC 17482',\n",
       "       'PC 17483', 'PC 17485', 'PC 17558', 'PC 17569', 'PC 17572',\n",
       "       'PC 17582', 'PC 17585', 'PC 17590', 'PC 17592', 'PC 17593',\n",
       "       'PC 17595', 'PC 17596', 'PC 17597', 'PC 17599', 'PC 17600',\n",
       "       'PC 17601', 'PC 17603', 'PC 17604', 'PC 17605', 'PC 17608',\n",
       "       'PC 17609', 'PC 17610', 'PC 17611', 'PC 17612', 'PC 17754',\n",
       "       'PC 17755', 'PC 17756', 'PC 17757', 'PC 17758', 'PC 17759',\n",
       "       'PC 17760', 'PC 17761', 'PP 4348', 'PP 9549', 'S.C./A.4. 23567',\n",
       "       'S.C./PARIS 2079', 'S.O./P.P. 3', 'S.O./P.P. 751', 'S.O.C. 14879',\n",
       "       'S.O.P. 1166', 'S.P. 3464', 'S.W./PP 752', 'SC 1748',\n",
       "       'SC/AH 29037', 'SC/AH 3085', 'SC/AH Basle 541', 'SC/PARIS 2131',\n",
       "       'SC/PARIS 2133', 'SC/PARIS 2146', 'SC/PARIS 2149', 'SC/PARIS 2167',\n",
       "       'SC/Paris 2123', 'SC/Paris 2163', 'SCO/W 1585', 'SO/C 14885',\n",
       "       'SOTON/O.Q. 3101305', 'SOTON/O.Q. 3101306', 'SOTON/O.Q. 3101307',\n",
       "       'SOTON/O.Q. 3101310', 'SOTON/O.Q. 3101311', 'SOTON/O.Q. 3101312',\n",
       "       'SOTON/O.Q. 392078', 'SOTON/O.Q. 392087', 'SOTON/O2 3101272',\n",
       "       'SOTON/O2 3101287', 'SOTON/OQ 3101316', 'SOTON/OQ 3101317',\n",
       "       'SOTON/OQ 392076', 'SOTON/OQ 392082', 'SOTON/OQ 392086',\n",
       "       'SOTON/OQ 392089', 'SOTON/OQ 392090', 'STON/O 2. 3101269',\n",
       "       'STON/O 2. 3101273', 'STON/O 2. 3101274', 'STON/O 2. 3101275',\n",
       "       'STON/O 2. 3101280', 'STON/O 2. 3101285', 'STON/O 2. 3101286',\n",
       "       'STON/O 2. 3101288', 'STON/O 2. 3101289', 'STON/O 2. 3101292',\n",
       "       'STON/O 2. 3101293', 'STON/O 2. 3101294', 'STON/O2. 3101271',\n",
       "       'STON/O2. 3101279', 'STON/O2. 3101282', 'STON/O2. 3101283',\n",
       "       'STON/O2. 3101290', 'SW/PP 751', 'W./C. 14258', 'W./C. 14263',\n",
       "       'W./C. 6607', 'W./C. 6608', 'W./C. 6609', 'W.E.P. 5734',\n",
       "       'W/C 14208', 'WE/P 5735'], dtype=object)"
      ]
     },
     "execution_count": 12,
     "metadata": {},
     "output_type": "execute_result"
    }
   ],
   "source": [
    "np.unique(data_train['Ticket'].values)"
   ]
  },
  {
   "cell_type": "markdown",
   "id": "986a1ce9",
   "metadata": {},
   "source": [
    "Ticket variable contains entries in different formats, some are numbers, some are number + a certain letter pattern. I will try to recover some information from the Ticket variable by creating another variable that tells whether the Ticket is a number or not."
   ]
  },
  {
   "cell_type": "code",
   "execution_count": 13,
   "id": "f5d044d9",
   "metadata": {},
   "outputs": [],
   "source": [
    "def is_ticket_number(x):\n",
    "    try:\n",
    "        float(x)\n",
    "        return 1\n",
    "    except ValueError:\n",
    "        return 0"
   ]
  },
  {
   "cell_type": "code",
   "execution_count": 14,
   "id": "c214ebe5",
   "metadata": {},
   "outputs": [
    {
     "data": {
      "text/plain": [
       "<AxesSubplot:>"
      ]
     },
     "execution_count": 14,
     "metadata": {},
     "output_type": "execute_result"
    },
    {
     "data": {
      "image/png": "[encoded data removed]",
      "text/plain": [
       "<Figure size 432x288 with 1 Axes>"
      ]
     },
     "metadata": {
      "needs_background": "light"
     },
     "output_type": "display_data"
    }
   ],
   "source": [
    "# Applying is_ticket_number\n",
    "data_train['IsTicketNumber'] = data_train['Ticket'].map(is_ticket_number)\n",
    "data_test['IsTicketNumber'] = data_test['Ticket'].map(is_ticket_number)\n",
    "\n",
    "data_train = data_train.drop(columns='Ticket')\n",
    "data_test = data_test.drop(columns='Ticket')\n",
    "\n",
    "data_train['IsTicketNumber'].value_counts().plot(kind='bar')"
   ]
  },
  {
   "cell_type": "markdown",
   "id": "9d2be622",
   "metadata": {},
   "source": [
    "### 1.6 Handling missing values"
   ]
  },
  {
   "cell_type": "code",
   "execution_count": 15,
   "id": "3cc6a1bb",
   "metadata": {},
   "outputs": [
    {
     "name": "stdout",
     "output_type": "stream",
     "text": [
      "Col PassengerId, missing ratio = 0.0000\n",
      "Col Survived, missing ratio = 0.0000\n",
      "Col Pclass, missing ratio = 0.0000\n",
      "Col Sex, missing ratio = 0.0000\n",
      "Col Age, missing ratio = 0.1987\n",
      "Col SibSp, missing ratio = 0.0000\n",
      "Col Parch, missing ratio = 0.0000\n",
      "Col Fare, missing ratio = 0.0000\n",
      "Col Embarked, missing ratio = 0.0022\n",
      "Col HasCabin, missing ratio = 0.0000\n",
      "Col IsTicketNumber, missing ratio = 0.0000\n"
     ]
    }
   ],
   "source": [
    "for col in data_train.columns:\n",
    "    nan_ratio = np.sum(data_train[col].isna()) / len(data_train)\n",
    "    print('Col {}, missing ratio = {:.4f}'.format(col, nan_ratio))"
   ]
  },
  {
   "cell_type": "markdown",
   "id": "6f368a6d",
   "metadata": {},
   "source": [
    "***\n",
    "Most of the missing data (20%) comes from the Age variable, which is an important source of information.\n",
    "The remaining missing data (<2%) comes from Embarked.\n",
    "\n",
    "I do not intend to remove any data because of missing values. Instead I will handle them by creating extra variables to indicate whether these variables are filled or not.\n",
    "\n",
    "Age will be handled by replacing NaN's by -1 and creating a new variable HasAge.\n",
    "\n",
    "Embarked will be handled by replacing NaN's with a categorical value 'unknown'. The Embarked variable will be later replaced by one-hot encoded ones.\n",
    "***"
   ]
  },
  {
   "cell_type": "code",
   "execution_count": 16,
   "id": "be27b9e3",
   "metadata": {},
   "outputs": [],
   "source": [
    "# Handling Age variable\n",
    "# A Variable HasAge will be created and the missing values will be filled wit -1\n",
    "data_train['HasAge'] = data_train['Age'].notna()\n",
    "data_test['HasAge'] = data_test['Age'].notna()"
   ]
  },
  {
   "cell_type": "code",
   "execution_count": 17,
   "id": "f393f38a",
   "metadata": {},
   "outputs": [],
   "source": [
    "def process_nan_age(x):\n",
    "    if np.isnan(x):\n",
    "        return -1\n",
    "    else:\n",
    "        return x"
   ]
  },
  {
   "cell_type": "code",
   "execution_count": 18,
   "id": "b8569e9e",
   "metadata": {},
   "outputs": [],
   "source": [
    "data_train['Age'] = data_train['Age'].map(process_nan_age)\n",
    "data_test['Age'] = data_test['Age'].map(process_nan_age)"
   ]
  },
  {
   "cell_type": "code",
   "execution_count": 19,
   "id": "1e4d34ab",
   "metadata": {},
   "outputs": [],
   "source": [
    "# Handling Embarked variable\n",
    "def process_nan_embarked(x):\n",
    "    if x not in ['C', 'S', 'Q']:\n",
    "        return 'unknown'\n",
    "    else:\n",
    "        return x"
   ]
  },
  {
   "cell_type": "code",
   "execution_count": 20,
   "id": "adcf8a65",
   "metadata": {},
   "outputs": [],
   "source": [
    "data_train['Embarked'] = data_train['Embarked'].map(process_nan_embarked)\n",
    "data_test['Embarked'] = data_test['Embarked'].map(process_nan_embarked)"
   ]
  },
  {
   "cell_type": "markdown",
   "id": "eb0fadab",
   "metadata": {},
   "source": [
    "### 1.7 Encoding categorical variables"
   ]
  },
  {
   "cell_type": "code",
   "execution_count": 21,
   "id": "1d69f161",
   "metadata": {},
   "outputs": [],
   "source": [
    "# Sex\n",
    "df = pd.get_dummies(data_train['Sex'], drop_first=True)\n",
    "data_train['IsMale'] = df['male']\n",
    "data_train = data_train.drop(columns='Sex')"
   ]
  },
  {
   "cell_type": "code",
   "execution_count": 22,
   "id": "583718b3",
   "metadata": {},
   "outputs": [],
   "source": [
    "df = pd.get_dummies(data_test['Sex'], drop_first=True)\n",
    "data_test['IsMale'] = df['male']\n",
    "data_test = data_test.drop(columns='Sex')"
   ]
  },
  {
   "cell_type": "code",
   "execution_count": 23,
   "id": "f71eae3a",
   "metadata": {},
   "outputs": [],
   "source": [
    "# Embarked\n",
    "df = pd.get_dummies(data_train['Embarked'], drop_first=True)\n",
    "\n",
    "data_train['EmbarkedQ'] = df['Q']\n",
    "data_train['EmbarkedS'] = df['S']\n",
    "data_train['EmbarkedU'] = df['unknown']"
   ]
  },
  {
   "cell_type": "code",
   "execution_count": 28,
   "id": "345faa5c",
   "metadata": {},
   "outputs": [],
   "source": [
    "df = pd.get_dummies(data_test['Embarked'], drop_first=True)\n",
    "\n",
    "data_test['EmbarkedQ'] = df['Q']\n",
    "data_test['EmbarkedS'] = df['S']\n",
    "data_test['EmbarkedU'] = 0"
   ]
  },
  {
   "cell_type": "code",
   "execution_count": 29,
   "id": "fd445f3e",
   "metadata": {},
   "outputs": [],
   "source": [
    "data_train = data_train.drop(columns='Embarked')\n",
    "data_test = data_test.drop(columns='Embarked')"
   ]
  },
  {
   "cell_type": "code",
   "execution_count": 30,
   "id": "a94907b7",
   "metadata": {},
   "outputs": [],
   "source": [
    "# Pclass\n",
    "df = pd.get_dummies(data_train['Pclass'], prefix='class', drop_first=False)\n",
    "data_train['IsFirstClass'] = df['class_1']\n",
    "data_train['IsSecondClass'] = df['class_2']"
   ]
  },
  {
   "cell_type": "code",
   "execution_count": 31,
   "id": "520edb4c",
   "metadata": {},
   "outputs": [],
   "source": [
    "df = pd.get_dummies(data_test['Pclass'], prefix='class', drop_first=False)\n",
    "data_test['IsFirstClass'] = df['class_1']\n",
    "data_test['IsSecondClass'] = df['class_2']"
   ]
  },
  {
   "cell_type": "code",
   "execution_count": 32,
   "id": "87ad0a11",
   "metadata": {},
   "outputs": [],
   "source": [
    "data_train = data_train.drop(columns='Pclass')\n",
    "data_test = data_test.drop(columns='Pclass')"
   ]
  },
  {
   "cell_type": "code",
   "execution_count": 34,
   "id": "0ee60e94",
   "metadata": {},
   "outputs": [],
   "source": [
    "# HasCabin\n",
    "df = pd.get_dummies(data_train['HasCabin'], prefix='cabin', drop_first=False)\n",
    "data_train['HasCabin'] = df['cabin_True']\n",
    "\n",
    "df = pd.get_dummies(data_test['HasCabin'], prefix='cabin', drop_first=False)\n",
    "data_test['HasCabin'] = df['cabin_True']"
   ]
  },
  {
   "cell_type": "code",
   "execution_count": 36,
   "id": "12fdffdd",
   "metadata": {},
   "outputs": [],
   "source": [
    "# HasAge\n",
    "df = pd.get_dummies(data_train['HasAge'], prefix='age', drop_first=False)\n",
    "data_train['HasAge'] = df['age_True']\n",
    "\n",
    "df = pd.get_dummies(data_test['HasAge'], prefix='age', drop_first=False)\n",
    "data_test['HasAge'] = df['age_True']"
   ]
  },
  {
   "cell_type": "markdown",
   "id": "c0d033df",
   "metadata": {},
   "source": [
    "***\n",
    "After encoding, all variables are numerical type now. Let's have a look at the current state of our dataset.\n",
    "***"
   ]
  },
  {
   "cell_type": "markdown",
   "id": "604d3881",
   "metadata": {},
   "source": [
    "### 1.8 Final look at the dataset"
   ]
  },
  {
   "cell_type": "code",
   "execution_count": 37,
   "id": "3a325c27",
   "metadata": {},
   "outputs": [
    {
     "data": {
      "text/html": [
       "<div>\n",
       "<style scoped>\n",
       "    .dataframe tbody tr th:only-of-type {\n",
       "        vertical-align: middle;\n",
       "    }\n",
       "\n",
       "    .dataframe tbody tr th {\n",
       "        vertical-align: top;\n",
       "    }\n",
       "\n",
       "    .dataframe thead th {\n",
       "        text-align: right;\n",
       "    }\n",
       "</style>\n",
       "<table border=\"1\" class=\"dataframe\">\n",
       "  <thead>\n",
       "    <tr style=\"text-align: right;\">\n",
       "      <th></th>\n",
       "      <th>PassengerId</th>\n",
       "      <th>Survived</th>\n",
       "      <th>Age</th>\n",
       "      <th>SibSp</th>\n",
       "      <th>Parch</th>\n",
       "      <th>Fare</th>\n",
       "      <th>HasCabin</th>\n",
       "      <th>IsTicketNumber</th>\n",
       "      <th>HasAge</th>\n",
       "      <th>IsMale</th>\n",
       "      <th>EmbarkedQ</th>\n",
       "      <th>EmbarkedS</th>\n",
       "      <th>EmbarkedU</th>\n",
       "      <th>IsFirstClass</th>\n",
       "      <th>IsSecondClass</th>\n",
       "    </tr>\n",
       "  </thead>\n",
       "  <tbody>\n",
       "    <tr>\n",
       "      <th>0</th>\n",
       "      <td>1</td>\n",
       "      <td>0</td>\n",
       "      <td>22.0</td>\n",
       "      <td>1</td>\n",
       "      <td>0</td>\n",
       "      <td>7.2500</td>\n",
       "      <td>1</td>\n",
       "      <td>0</td>\n",
       "      <td>1</td>\n",
       "      <td>1</td>\n",
       "      <td>0</td>\n",
       "      <td>1</td>\n",
       "      <td>0</td>\n",
       "      <td>0</td>\n",
       "      <td>0</td>\n",
       "    </tr>\n",
       "    <tr>\n",
       "      <th>1</th>\n",
       "      <td>2</td>\n",
       "      <td>1</td>\n",
       "      <td>38.0</td>\n",
       "      <td>1</td>\n",
       "      <td>0</td>\n",
       "      <td>71.2833</td>\n",
       "      <td>0</td>\n",
       "      <td>0</td>\n",
       "      <td>1</td>\n",
       "      <td>0</td>\n",
       "      <td>0</td>\n",
       "      <td>0</td>\n",
       "      <td>0</td>\n",
       "      <td>1</td>\n",
       "      <td>0</td>\n",
       "    </tr>\n",
       "    <tr>\n",
       "      <th>2</th>\n",
       "      <td>3</td>\n",
       "      <td>1</td>\n",
       "      <td>26.0</td>\n",
       "      <td>0</td>\n",
       "      <td>0</td>\n",
       "      <td>7.9250</td>\n",
       "      <td>1</td>\n",
       "      <td>0</td>\n",
       "      <td>1</td>\n",
       "      <td>0</td>\n",
       "      <td>0</td>\n",
       "      <td>1</td>\n",
       "      <td>0</td>\n",
       "      <td>0</td>\n",
       "      <td>0</td>\n",
       "    </tr>\n",
       "    <tr>\n",
       "      <th>3</th>\n",
       "      <td>4</td>\n",
       "      <td>1</td>\n",
       "      <td>35.0</td>\n",
       "      <td>1</td>\n",
       "      <td>0</td>\n",
       "      <td>53.1000</td>\n",
       "      <td>0</td>\n",
       "      <td>1</td>\n",
       "      <td>1</td>\n",
       "      <td>0</td>\n",
       "      <td>0</td>\n",
       "      <td>1</td>\n",
       "      <td>0</td>\n",
       "      <td>1</td>\n",
       "      <td>0</td>\n",
       "    </tr>\n",
       "    <tr>\n",
       "      <th>4</th>\n",
       "      <td>5</td>\n",
       "      <td>0</td>\n",
       "      <td>35.0</td>\n",
       "      <td>0</td>\n",
       "      <td>0</td>\n",
       "      <td>8.0500</td>\n",
       "      <td>1</td>\n",
       "      <td>1</td>\n",
       "      <td>1</td>\n",
       "      <td>1</td>\n",
       "      <td>0</td>\n",
       "      <td>1</td>\n",
       "      <td>0</td>\n",
       "      <td>0</td>\n",
       "      <td>0</td>\n",
       "    </tr>\n",
       "  </tbody>\n",
       "</table>\n",
       "</div>"
      ],
      "text/plain": [
       "   PassengerId  Survived   Age  SibSp  Parch     Fare  HasCabin  \\\n",
       "0            1         0  22.0      1      0   7.2500         1   \n",
       "1            2         1  38.0      1      0  71.2833         0   \n",
       "2            3         1  26.0      0      0   7.9250         1   \n",
       "3            4         1  35.0      1      0  53.1000         0   \n",
       "4            5         0  35.0      0      0   8.0500         1   \n",
       "\n",
       "   IsTicketNumber  HasAge  IsMale  EmbarkedQ  EmbarkedS  EmbarkedU  \\\n",
       "0               0       1       1          0          1          0   \n",
       "1               0       1       0          0          0          0   \n",
       "2               0       1       0          0          1          0   \n",
       "3               1       1       0          0          1          0   \n",
       "4               1       1       1          0          1          0   \n",
       "\n",
       "   IsFirstClass  IsSecondClass  \n",
       "0             0              0  \n",
       "1             1              0  \n",
       "2             0              0  \n",
       "3             1              0  \n",
       "4             0              0  "
      ]
     },
     "execution_count": 37,
     "metadata": {},
     "output_type": "execute_result"
    }
   ],
   "source": [
    "data_train.head()"
   ]
  },
  {
   "cell_type": "markdown",
   "id": "8dd4a8cb",
   "metadata": {},
   "source": [
    "## 2. Classification model building and validation"
   ]
  },
  {
   "cell_type": "code",
   "execution_count": null,
   "id": "a456b2f6",
   "metadata": {},
   "outputs": [],
   "source": []
  }
 ],
 "metadata": {
  "kernelspec": {
   "display_name": "Python 3 (ipykernel)",
   "language": "python",
   "name": "python3"
  },
  "language_info": {
   "codemirror_mode": {
    "name": "ipython",
    "version": 3
   },
   "file_extension": ".py",
   "mimetype": "text/x-python",
   "name": "python",
   "nbconvert_exporter": "python",
   "pygments_lexer": "ipython3",
   "version": "3.9.7"
  }
 },
 "nbformat": 4,
 "nbformat_minor": 5
}
