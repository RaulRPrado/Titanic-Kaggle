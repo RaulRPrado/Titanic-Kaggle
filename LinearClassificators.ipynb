{
 "cells": [
  {
   "cell_type": "code",
   "execution_count": 1,
   "id": "6d6ce9e0",
   "metadata": {},
   "outputs": [],
   "source": [
    "import numpy as np\n",
    "import pandas as pd\n",
    "import matplotlib.pyplot as plt"
   ]
  },
  {
   "cell_type": "code",
   "execution_count": 2,
   "id": "756af60f",
   "metadata": {},
   "outputs": [],
   "source": [
    "from sklearn.model_selection import train_test_split\n",
    "from sklearn.preprocessing import StandardScaler"
   ]
  },
  {
   "cell_type": "code",
   "execution_count": 13,
   "id": "5022ede3",
   "metadata": {},
   "outputs": [],
   "source": [
    "data = pd.read_csv('data/titanic_withEncoded.csv')"
   ]
  },
  {
   "cell_type": "code",
   "execution_count": 14,
   "id": "6674fcc4",
   "metadata": {},
   "outputs": [],
   "source": [
    "X = data.drop(columns=['Unnamed: 0', 'PassengerId', 'Survived'])\n",
    "y = data['Survived']"
   ]
  },
  {
   "cell_type": "code",
   "execution_count": 15,
   "id": "c692faf5",
   "metadata": {},
   "outputs": [],
   "source": [
    "X_train, X_test, y_train, y_test = train_test_split(X, y, test_size=0.35, random_state=1)"
   ]
  },
  {
   "cell_type": "code",
   "execution_count": 16,
   "id": "7c37ca42",
   "metadata": {},
   "outputs": [],
   "source": [
    "sc = StandardScaler().fit(X_train)\n",
    "X_train_std = sc.transform(X_train)\n",
    "X_test_std = sc.transform(X_test)"
   ]
  },
  {
   "cell_type": "code",
   "execution_count": 17,
   "id": "07d2447f",
   "metadata": {},
   "outputs": [],
   "source": [
    "from sklearn.linear_model import LogisticRegression"
   ]
  },
  {
   "cell_type": "code",
   "execution_count": 33,
   "id": "45449f27",
   "metadata": {},
   "outputs": [],
   "source": [
    "clf = LogisticRegression(random_state=1, C=1).fit(X_train_std, y_train)"
   ]
  },
  {
   "cell_type": "code",
   "execution_count": 34,
   "id": "ef5f51d8",
   "metadata": {},
   "outputs": [
    {
     "name": "stdout",
     "output_type": "stream",
     "text": [
      "Score: 0.792\n"
     ]
    }
   ],
   "source": [
    "final_score = clf.score(X_test_std, y_test)\n",
    "print('Score: {}'.format(final_score))"
   ]
  },
  {
   "cell_type": "code",
   "execution_count": 35,
   "id": "67109b4a",
   "metadata": {},
   "outputs": [],
   "source": [
    "from sklearn.model_selection import learning_curve"
   ]
  },
  {
   "cell_type": "code",
   "execution_count": 42,
   "id": "9b6c0eaf",
   "metadata": {},
   "outputs": [],
   "source": [
    "train_sizes, train_scores, test_scores = learning_curve(\n",
    "    clf,\n",
    "    X_train_std,\n",
    "    y_train,\n",
    "    train_sizes=np.linspace(0.1, 1, 10),\n",
    "    cv=5\n",
    ")"
   ]
  },
  {
   "cell_type": "code",
   "execution_count": 43,
   "id": "cf1b2195",
   "metadata": {},
   "outputs": [
    {
     "data": {
      "text/plain": [
       "[<matplotlib.lines.Line2D at 0x7f4b35184160>]"
      ]
     },
     "execution_count": 43,
     "metadata": {},
     "output_type": "execute_result"
    },
    {
     "data": {
      "image/png": "[encoded data removed]",
      "text/plain": [
       "<Figure size 432x288 with 1 Axes>"
      ]
     },
     "metadata": {
      "needs_background": "light"
     },
     "output_type": "display_data"
    }
   ],
   "source": [
    "train_score_mean = np.mean(train_scores, axis=1)\n",
    "train_score_error = np.std(train_scores, axis=1) / np.sqrt(len(train_scores[0]))\n",
    "\n",
    "test_score_mean = np.mean(test_scores, axis=1)\n",
    "test_score_error = np.std(test_scores, axis=1) / np.sqrt(len(test_scores[0]))\n",
    "\n",
    "plt.errorbar(train_sizes, train_score_mean, yerr=train_score_error, color='r', linestyle='none', marker='o')\n",
    "plt.errorbar(train_sizes, test_score_mean, yerr=test_score_error, color='b', linestyle='none', marker='s')\n",
    "\n",
    "plt.plot((train_sizes[0], train_sizes[-1]), (final_score, final_score), linestyle='--', color='k')"
   ]
  },
  {
   "cell_type": "code",
   "execution_count": null,
   "id": "82ae05b2",
   "metadata": {},
   "outputs": [],
   "source": []
  },
  {
   "cell_type": "code",
   "execution_count": null,
   "id": "16e62c54",
   "metadata": {},
   "outputs": [],
   "source": []
  }
 ],
 "metadata": {
  "kernelspec": {
   "display_name": "Python 3 (ipykernel)",
   "language": "python",
   "name": "python3"
  },
  "language_info": {
   "codemirror_mode": {
    "name": "ipython",
    "version": 3
   },
   "file_extension": ".py",
   "mimetype": "text/x-python",
   "name": "python",
   "nbconvert_exporter": "python",
   "pygments_lexer": "ipython3",
   "version": "3.9.7"
  }
 },
 "nbformat": 4,
 "nbformat_minor": 5
}
