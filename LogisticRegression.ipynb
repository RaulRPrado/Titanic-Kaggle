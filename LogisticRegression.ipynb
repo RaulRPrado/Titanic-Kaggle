{
 "cells": [
  {
   "cell_type": "code",
   "execution_count": 1,
   "id": "6d6ce9e0",
   "metadata": {},
   "outputs": [],
   "source": [
    "import numpy as np\n",
    "import pandas as pd\n",
    "import matplotlib.pyplot as plt"
   ]
  },
  {
   "cell_type": "code",
   "execution_count": 2,
   "id": "756af60f",
   "metadata": {},
   "outputs": [],
   "source": [
    "from sklearn.model_selection import train_test_split\n",
    "from sklearn.preprocessing import StandardScaler"
   ]
  },
  {
   "cell_type": "code",
   "execution_count": 56,
   "id": "5022ede3",
   "metadata": {},
   "outputs": [],
   "source": [
    "data = pd.read_csv('data/titanic_withEncoded.csv')"
   ]
  },
  {
   "cell_type": "code",
   "execution_count": 57,
   "id": "6674fcc4",
   "metadata": {},
   "outputs": [],
   "source": [
    "X = data.drop(columns=['Unnamed: 0', 'PassengerId', 'Survived'])\n",
    "y = data['Survived']"
   ]
  },
  {
   "cell_type": "code",
   "execution_count": 58,
   "id": "c692faf5",
   "metadata": {},
   "outputs": [],
   "source": [
    "X_train, X_test, y_train, y_test = train_test_split(X, y, test_size=0.35, random_state=1)"
   ]
  },
  {
   "cell_type": "code",
   "execution_count": 59,
   "id": "7c37ca42",
   "metadata": {},
   "outputs": [],
   "source": [
    "sc = StandardScaler().fit(X_train)\n",
    "X_train_std = sc.transform(X_train)\n",
    "X_test_std = sc.transform(X_test)"
   ]
  },
  {
   "cell_type": "code",
   "execution_count": 60,
   "id": "07d2447f",
   "metadata": {},
   "outputs": [],
   "source": [
    "from sklearn.linear_model import LogisticRegression"
   ]
  },
  {
   "cell_type": "code",
   "execution_count": 61,
   "id": "45449f27",
   "metadata": {},
   "outputs": [],
   "source": [
    "clf = LogisticRegression(random_state=1, C=10).fit(X_train_std, y_train)"
   ]
  },
  {
   "cell_type": "code",
   "execution_count": 62,
   "id": "ef5f51d8",
   "metadata": {},
   "outputs": [
    {
     "name": "stdout",
     "output_type": "stream",
     "text": [
      "Score: 0.796\n"
     ]
    }
   ],
   "source": [
    "final_score = clf.score(X_test_std, y_test)\n",
    "print('Score: {}'.format(final_score))"
   ]
  },
  {
   "cell_type": "code",
   "execution_count": 64,
   "id": "f8edb023",
   "metadata": {},
   "outputs": [],
   "source": [
    "# new_age_score = clf.score(\n",
    "#     X_test_std[X_test['NewAge']!=-1],\n",
    "#     y_test[X_test['NewAge']!=-1]\n",
    "# )\n",
    "# print('Score (NewAge==-1): {}'.format(new_age_score))"
   ]
  },
  {
   "cell_type": "code",
   "execution_count": 65,
   "id": "c7566e0c",
   "metadata": {},
   "outputs": [],
   "source": [
    "prob = clf.predict_proba(X_test_std)"
   ]
  },
  {
   "cell_type": "code",
   "execution_count": 66,
   "id": "068219cb",
   "metadata": {},
   "outputs": [
    {
     "data": {
      "text/plain": [
       "(array([ 8., 13.,  9., 10.,  4.,  6.,  7.,  6.,  5.,  2.,  2.,  3.,  1.,\n",
       "         2.,  3.,  5.,  1.,  1.,  1.,  2.,  5.,  6.,  1.,  0.]),\n",
       " array([0.        , 0.04166667, 0.08333333, 0.125     , 0.16666667,\n",
       "        0.20833333, 0.25      , 0.29166667, 0.33333333, 0.375     ,\n",
       "        0.41666667, 0.45833333, 0.5       , 0.54166667, 0.58333333,\n",
       "        0.625     , 0.66666667, 0.70833333, 0.75      , 0.79166667,\n",
       "        0.83333333, 0.875     , 0.91666667, 0.95833333, 1.        ]),\n",
       " <BarContainer object of 24 artists>)"
      ]
     },
     "execution_count": 66,
     "metadata": {},
     "output_type": "execute_result"
    },
    {
     "data": {
      "image/png": "[encoded data removed]",
      "text/plain": [
       "<Figure size 432x288 with 1 Axes>"
      ]
     },
     "metadata": {
      "needs_background": "light"
     },
     "output_type": "display_data"
    }
   ],
   "source": [
    "plt.hist([p for p, y in zip(prob[:,0], y_test) if y == 0], bins=np.linspace(0, 1, 25), alpha=0.6)\n",
    "plt.hist([p for p, y in zip(prob[:,0], y_test) if y == 1], bins=np.linspace(0, 1, 25), alpha=0.6)"
   ]
  },
  {
   "cell_type": "markdown",
   "id": "aea57fde",
   "metadata": {},
   "source": [
    "### Learning curve"
   ]
  },
  {
   "cell_type": "code",
   "execution_count": 67,
   "id": "67109b4a",
   "metadata": {},
   "outputs": [],
   "source": [
    "from sklearn.model_selection import learning_curve"
   ]
  },
  {
   "cell_type": "code",
   "execution_count": 68,
   "id": "9b6c0eaf",
   "metadata": {},
   "outputs": [],
   "source": [
    "train_sizes, train_scores, test_scores = learning_curve(\n",
    "    clf,\n",
    "    X_train_std,\n",
    "    y_train,\n",
    "    train_sizes=np.linspace(0.1, 1, 10),\n",
    "    cv=5\n",
    ")"
   ]
  },
  {
   "cell_type": "code",
   "execution_count": 69,
   "id": "cf1b2195",
   "metadata": {},
   "outputs": [
    {
     "data": {
      "text/plain": [
       "[<matplotlib.lines.Line2D at 0x7f6e06ef8190>]"
      ]
     },
     "execution_count": 69,
     "metadata": {},
     "output_type": "execute_result"
    },
    {
     "data": {
      "image/png": "[encoded data removed]",
      "text/plain": [
       "<Figure size 432x288 with 1 Axes>"
      ]
     },
     "metadata": {
      "needs_background": "light"
     },
     "output_type": "display_data"
    }
   ],
   "source": [
    "train_score_mean = np.mean(train_scores, axis=1)\n",
    "train_score_error = np.std(train_scores, axis=1) / np.sqrt(len(train_scores[0]))\n",
    "\n",
    "test_score_mean = np.mean(test_scores, axis=1)\n",
    "test_score_error = np.std(test_scores, axis=1) / np.sqrt(len(test_scores[0]))\n",
    "\n",
    "plt.errorbar(train_sizes, train_score_mean, yerr=train_score_error, color='r', linestyle='none', marker='o')\n",
    "plt.errorbar(train_sizes, test_score_mean, yerr=test_score_error, color='b', linestyle='none', marker='s')\n",
    "\n",
    "plt.plot((train_sizes[0], train_sizes[-1]), (final_score, final_score), linestyle='--', color='k')"
   ]
  },
  {
   "cell_type": "markdown",
   "id": "0c1d2ba0",
   "metadata": {},
   "source": [
    "### Validation curve"
   ]
  },
  {
   "cell_type": "code",
   "execution_count": 70,
   "id": "16e62c54",
   "metadata": {},
   "outputs": [
    {
     "data": {
      "text/plain": [
       "{'C': 10,\n",
       " 'class_weight': None,\n",
       " 'dual': False,\n",
       " 'fit_intercept': True,\n",
       " 'intercept_scaling': 1,\n",
       " 'l1_ratio': None,\n",
       " 'max_iter': 100,\n",
       " 'multi_class': 'auto',\n",
       " 'n_jobs': None,\n",
       " 'penalty': 'l2',\n",
       " 'random_state': 1,\n",
       " 'solver': 'lbfgs',\n",
       " 'tol': 0.0001,\n",
       " 'verbose': 0,\n",
       " 'warm_start': False}"
      ]
     },
     "execution_count": 70,
     "metadata": {},
     "output_type": "execute_result"
    }
   ],
   "source": [
    "clf.get_params()"
   ]
  },
  {
   "cell_type": "code",
   "execution_count": 71,
   "id": "d74bac68",
   "metadata": {},
   "outputs": [],
   "source": [
    "from sklearn.model_selection import validation_curve"
   ]
  },
  {
   "cell_type": "code",
   "execution_count": 72,
   "id": "cfa96159",
   "metadata": {},
   "outputs": [],
   "source": [
    "param_range = np.logspace(-3, 5, 20)\n",
    "train_scores, test_scores = validation_curve(\n",
    "    estimator=clf, \n",
    "    X=X_train_std, \n",
    "    y=y_train, \n",
    "    param_name='C', \n",
    "    param_range=param_range,\n",
    "    cv=5\n",
    ")"
   ]
  },
  {
   "cell_type": "code",
   "execution_count": 73,
   "id": "73e9c055",
   "metadata": {},
   "outputs": [],
   "source": [
    "mean_train = np.mean(train_scores, axis=1)\n",
    "std_train = np.std(train_scores, axis=1)  / np.sqrt(len(train_scores[0]))\n",
    "\n",
    "mean_test = np.mean(test_scores, axis=1)\n",
    "std_test = np.std(test_scores, axis=1) / np.sqrt(len(test_scores[0]))"
   ]
  },
  {
   "cell_type": "code",
   "execution_count": 74,
   "id": "a29223ce",
   "metadata": {},
   "outputs": [
    {
     "data": {
      "text/plain": [
       "<matplotlib.collections.PolyCollection at 0x7f6e06e6c2e0>"
      ]
     },
     "execution_count": 74,
     "metadata": {},
     "output_type": "execute_result"
    },
    {
     "data": {
      "image/png": "[encoded data removed]",
      "text/plain": [
       "<Figure size 432x288 with 1 Axes>"
      ]
     },
     "metadata": {
      "needs_background": "light"
     },
     "output_type": "display_data"
    }
   ],
   "source": [
    "ax = plt.gca()\n",
    "ax.set_xscale('log')\n",
    "\n",
    "plt.plot(param_range, mean_train, color='r', linestyle='none', marker='o')\n",
    "plt.fill_between(param_range, mean_train + std_train, mean_train - std_train, alpha=0.15, color='r')\n",
    "\n",
    "plt.plot(param_range, mean_test, color='b', linestyle='none', marker='o')\n",
    "plt.fill_between(param_range, mean_test + std_test, mean_test - std_test, alpha=0.15, color='b')\n"
   ]
  },
  {
   "cell_type": "markdown",
   "id": "dbe8d1be",
   "metadata": {},
   "source": [
    "It seems like C=10 is good"
   ]
  },
  {
   "cell_type": "code",
   "execution_count": 75,
   "id": "edc8a992",
   "metadata": {},
   "outputs": [],
   "source": [
    "clf = LogisticRegression(random_state=1, C=10).fit(X_train_std, y_train)"
   ]
  },
  {
   "cell_type": "code",
   "execution_count": 76,
   "id": "bda575a7",
   "metadata": {},
   "outputs": [
    {
     "name": "stdout",
     "output_type": "stream",
     "text": [
      "Score: 0.796\n"
     ]
    }
   ],
   "source": [
    "final_score = clf.score(X_test_std, y_test)\n",
    "print('Score: {}'.format(final_score))"
   ]
  },
  {
   "cell_type": "code",
   "execution_count": 77,
   "id": "cad8f557",
   "metadata": {},
   "outputs": [
    {
     "name": "stdout",
     "output_type": "stream",
     "text": [
      "[[124  23]\n",
      " [ 28  75]]\n"
     ]
    }
   ],
   "source": [
    "from sklearn.metrics import confusion_matrix\n",
    "\n",
    "y_pred = clf.predict(X_test_std)\n",
    "conf_mat = confusion_matrix(y_true=y_test, y_pred=y_pred)\n",
    "print(conf_mat)"
   ]
  },
  {
   "cell_type": "code",
   "execution_count": 78,
   "id": "f6c10a50",
   "metadata": {},
   "outputs": [
    {
     "data": {
      "image/png": "[encoded data removed]",
      "text/plain": [
       "<Figure size 180x180 with 1 Axes>"
      ]
     },
     "metadata": {
      "needs_background": "light"
     },
     "output_type": "display_data"
    }
   ],
   "source": [
    "fig, ax = plt.subplots(figsize=(2.5, 2.5))\n",
    "ax.matshow(conf_mat, cmap=plt.cm.Blues, alpha=0.3)\n",
    "for i in range(conf_mat.shape[0]):\n",
    "    for j in range(conf_mat.shape[1]):\n",
    "        ax.text(x=j, y=i, s=conf_mat[i, j], va='center', ha='center')\n",
    "\n",
    "plt.xlabel('Predicted label')\n",
    "plt.ylabel('True label')\n",
    "\n",
    "plt.tight_layout()"
   ]
  },
  {
   "cell_type": "code",
   "execution_count": null,
   "id": "498cb4a2",
   "metadata": {},
   "outputs": [],
   "source": []
  },
  {
   "cell_type": "code",
   "execution_count": null,
   "id": "cec859fb",
   "metadata": {},
   "outputs": [],
   "source": []
  }
 ],
 "metadata": {
  "kernelspec": {
   "display_name": "Python 3 (ipykernel)",
   "language": "python",
   "name": "python3"
  },
  "language_info": {
   "codemirror_mode": {
    "name": "ipython",
    "version": 3
   },
   "file_extension": ".py",
   "mimetype": "text/x-python",
   "name": "python",
   "nbconvert_exporter": "python",
   "pygments_lexer": "ipython3",
   "version": "3.9.7"
  }
 },
 "nbformat": 4,
 "nbformat_minor": 5
}
