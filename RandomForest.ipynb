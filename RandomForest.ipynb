{
 "cells": [
  {
   "cell_type": "code",
   "execution_count": null,
   "id": "ea068758",
   "metadata": {},
   "outputs": [],
   "source": [
    "import numpy as np\n",
    "import pandas as pd\n",
    "import matplotlib.pyplot as plt\n",
    "\n",
    "from sklearn.model_selection import train_test_split, GridSearchCV, validation_curve, learning_curve\n",
    "from sklearn.ensemble import RandomForestClassifier\n",
    "\n",
    "from my_lib.plotting import plot_probability_distributions, plot_learning_curve, plot_validation_curve"
   ]
  },
  {
   "cell_type": "code",
   "execution_count": null,
   "id": "14219a6e",
   "metadata": {},
   "outputs": [],
   "source": [
    "data = pd.read_csv('data/titanic_newAge_withEncoded.csv')"
   ]
  },
  {
   "cell_type": "code",
   "execution_count": null,
   "id": "d97ccfaf",
   "metadata": {},
   "outputs": [],
   "source": [
    "# mean_age = -50 # data[(data['NewAge']>0)]['NewAge'].mean()\n",
    "\n",
    "# def replace_age(age):\n",
    "#     return mean_age if age < 0 else age\n",
    "\n",
    "# data['NewAge'] = data['NewAge'].map(replace_age)"
   ]
  },
  {
   "cell_type": "code",
   "execution_count": null,
   "id": "c906aae6",
   "metadata": {},
   "outputs": [],
   "source": [
    "X = data.drop(columns=['Unnamed: 0', 'PassengerId', 'Survived'])\n",
    "y = data['Survived']"
   ]
  },
  {
   "cell_type": "code",
   "execution_count": null,
   "id": "0df68ee1",
   "metadata": {},
   "outputs": [],
   "source": [
    "X_train, X_test, y_train, y_test = train_test_split(X, y, test_size=0.35, random_state=1)"
   ]
  },
  {
   "cell_type": "code",
   "execution_count": null,
   "id": "7c0fb029",
   "metadata": {},
   "outputs": [],
   "source": [
    "clf = RandomForestClassifier(random_state=1, max_depth=4, criterion='entropy')"
   ]
  },
  {
   "cell_type": "code",
   "execution_count": null,
   "id": "c54a3f3d",
   "metadata": {},
   "outputs": [],
   "source": [
    "clf.fit(X_train, y_train)"
   ]
  },
  {
   "cell_type": "code",
   "execution_count": null,
   "id": "171bd5f0",
   "metadata": {},
   "outputs": [],
   "source": [
    "test_score = clf.score(X_test, y_test)\n",
    "print('Score: {}'.format(test_score))"
   ]
  },
  {
   "cell_type": "code",
   "execution_count": null,
   "id": "42a74fb0",
   "metadata": {},
   "outputs": [],
   "source": [
    "plot_probability_distributions(clf, X_test, y_test)"
   ]
  },
  {
   "cell_type": "code",
   "execution_count": null,
   "id": "b9ebc4cf",
   "metadata": {},
   "outputs": [],
   "source": [
    "train_sizes, train_scores, test_scores = learning_curve(\n",
    "    clf,\n",
    "    X_train,\n",
    "    y_train,\n",
    "    train_sizes=np.linspace(0.1, 1, 10),\n",
    "    cv=5\n",
    ")"
   ]
  },
  {
   "cell_type": "code",
   "execution_count": null,
   "id": "ba0e6544",
   "metadata": {},
   "outputs": [],
   "source": [
    "plot_learning_curve(train_scores, test_scores, train_sizes, expected_score=test_score, stat_error=False)"
   ]
  },
  {
   "cell_type": "markdown",
   "id": "7778b3d9",
   "metadata": {},
   "source": [
    "## Validation Curve"
   ]
  },
  {
   "cell_type": "code",
   "execution_count": null,
   "id": "bf833586",
   "metadata": {},
   "outputs": [],
   "source": [
    "param_range = range(2, 10)\n",
    "train_scores, test_scores = validation_curve(\n",
    "    estimator=clf, \n",
    "    X=X_train, \n",
    "    y=y_train, \n",
    "    param_name='max_depth', \n",
    "    param_range=param_range,\n",
    "    cv=5\n",
    ")"
   ]
  },
  {
   "cell_type": "code",
   "execution_count": null,
   "id": "66683c5c",
   "metadata": {},
   "outputs": [],
   "source": [
    "plot_validation_curve(train_scores, test_scores, param_range, expected_score=test_score, stat_error=False)"
   ]
  }
 ],
 "metadata": {
  "kernelspec": {
   "display_name": "Python 3 (ipykernel)",
   "language": "python",
   "name": "python3"
  },
  "language_info": {
   "codemirror_mode": {
    "name": "ipython",
    "version": 3
   },
   "file_extension": ".py",
   "mimetype": "text/x-python",
   "name": "python",
   "nbconvert_exporter": "python",
   "pygments_lexer": "ipython3",
   "version": "3.9.7"
  }
 },
 "nbformat": 4,
 "nbformat_minor": 5
}
