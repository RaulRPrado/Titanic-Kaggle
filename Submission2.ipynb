{
 "cells": [
  {
   "cell_type": "markdown",
   "id": "3bc1f508",
   "metadata": {},
   "source": [
    "# Titanic\n",
    "This is my second attempt at the Titanic dataset. Some of the improvements were due to  ideas taken from [Ken Jee](https://www.kaggle.com/kenjee/titanic-project-example) and [Jason Chong](https://www.youtube.com/watch?v=GSk-EEu1zkA). My goals include becoming more familiar with seaborn and sklearn, which means that there are a number of unnecessary steps that were added for the sake of learning.\n",
    "\n",
    "Code can also be found [here](https://github.com/RaulRPrado/Titanic-Kaggle).\n",
    "\n",
    "***\n",
    "### The notebook is structured as:\n",
    "\n",
    "[1. Exploring the data](#data_exploration)\n",
    "\n",
    "[2. Processing the data (cleaning and feature engeneering)](#data_processing)\n",
    "\n",
    "[3. Building and evaluating models](#model_building)\n",
    "\n",
    "[4. Selecting the best model](#model_selection)\n",
    "\n",
    "[5. Applying best model to test data](#model_applying)"
   ]
  },
  {
   "cell_type": "code",
   "execution_count": 1,
   "id": "84b71f21",
   "metadata": {},
   "outputs": [],
   "source": [
    "import numpy as np\n",
    "import pandas as pd\n",
    "import seaborn as sns\n",
    "import matplotlib.pyplot as plt"
   ]
  },
  {
   "cell_type": "code",
   "execution_count": 2,
   "id": "be4e11b5",
   "metadata": {},
   "outputs": [],
   "source": [
    "# Loading training data for exploration\n",
    "data_train = pd.read_csv('data/train.csv')"
   ]
  },
  {
   "cell_type": "markdown",
   "id": "9189530c",
   "metadata": {},
   "source": [
    "<a id='data_exploration'></a>\n",
    "## 1. Exploring the data\n",
    "\n",
    "In this section I will take a broad look at the data and collect ideas for the data processing, which will come later."
   ]
  },
  {
   "cell_type": "code",
   "execution_count": 3,
   "id": "38f8c9b4",
   "metadata": {},
   "outputs": [
    {
     "data": {
      "text/html": [
       "<div>\n",
       "<style scoped>\n",
       "    .dataframe tbody tr th:only-of-type {\n",
       "        vertical-align: middle;\n",
       "    }\n",
       "\n",
       "    .dataframe tbody tr th {\n",
       "        vertical-align: top;\n",
       "    }\n",
       "\n",
       "    .dataframe thead th {\n",
       "        text-align: right;\n",
       "    }\n",
       "</style>\n",
       "<table border=\"1\" class=\"dataframe\">\n",
       "  <thead>\n",
       "    <tr style=\"text-align: right;\">\n",
       "      <th></th>\n",
       "      <th>PassengerId</th>\n",
       "      <th>Survived</th>\n",
       "      <th>Pclass</th>\n",
       "      <th>Name</th>\n",
       "      <th>Sex</th>\n",
       "      <th>Age</th>\n",
       "      <th>SibSp</th>\n",
       "      <th>Parch</th>\n",
       "      <th>Ticket</th>\n",
       "      <th>Fare</th>\n",
       "      <th>Cabin</th>\n",
       "      <th>Embarked</th>\n",
       "    </tr>\n",
       "  </thead>\n",
       "  <tbody>\n",
       "    <tr>\n",
       "      <th>0</th>\n",
       "      <td>1</td>\n",
       "      <td>0</td>\n",
       "      <td>3</td>\n",
       "      <td>Braund, Mr. Owen Harris</td>\n",
       "      <td>male</td>\n",
       "      <td>22.0</td>\n",
       "      <td>1</td>\n",
       "      <td>0</td>\n",
       "      <td>A/5 21171</td>\n",
       "      <td>7.2500</td>\n",
       "      <td>NaN</td>\n",
       "      <td>S</td>\n",
       "    </tr>\n",
       "    <tr>\n",
       "      <th>1</th>\n",
       "      <td>2</td>\n",
       "      <td>1</td>\n",
       "      <td>1</td>\n",
       "      <td>Cumings, Mrs. John Bradley (Florence Briggs Th...</td>\n",
       "      <td>female</td>\n",
       "      <td>38.0</td>\n",
       "      <td>1</td>\n",
       "      <td>0</td>\n",
       "      <td>PC 17599</td>\n",
       "      <td>71.2833</td>\n",
       "      <td>C85</td>\n",
       "      <td>C</td>\n",
       "    </tr>\n",
       "    <tr>\n",
       "      <th>2</th>\n",
       "      <td>3</td>\n",
       "      <td>1</td>\n",
       "      <td>3</td>\n",
       "      <td>Heikkinen, Miss. Laina</td>\n",
       "      <td>female</td>\n",
       "      <td>26.0</td>\n",
       "      <td>0</td>\n",
       "      <td>0</td>\n",
       "      <td>STON/O2. 3101282</td>\n",
       "      <td>7.9250</td>\n",
       "      <td>NaN</td>\n",
       "      <td>S</td>\n",
       "    </tr>\n",
       "    <tr>\n",
       "      <th>3</th>\n",
       "      <td>4</td>\n",
       "      <td>1</td>\n",
       "      <td>1</td>\n",
       "      <td>Futrelle, Mrs. Jacques Heath (Lily May Peel)</td>\n",
       "      <td>female</td>\n",
       "      <td>35.0</td>\n",
       "      <td>1</td>\n",
       "      <td>0</td>\n",
       "      <td>113803</td>\n",
       "      <td>53.1000</td>\n",
       "      <td>C123</td>\n",
       "      <td>S</td>\n",
       "    </tr>\n",
       "    <tr>\n",
       "      <th>4</th>\n",
       "      <td>5</td>\n",
       "      <td>0</td>\n",
       "      <td>3</td>\n",
       "      <td>Allen, Mr. William Henry</td>\n",
       "      <td>male</td>\n",
       "      <td>35.0</td>\n",
       "      <td>0</td>\n",
       "      <td>0</td>\n",
       "      <td>373450</td>\n",
       "      <td>8.0500</td>\n",
       "      <td>NaN</td>\n",
       "      <td>S</td>\n",
       "    </tr>\n",
       "  </tbody>\n",
       "</table>\n",
       "</div>"
      ],
      "text/plain": [
       "   PassengerId  Survived  Pclass  \\\n",
       "0            1         0       3   \n",
       "1            2         1       1   \n",
       "2            3         1       3   \n",
       "3            4         1       1   \n",
       "4            5         0       3   \n",
       "\n",
       "                                                Name     Sex   Age  SibSp  \\\n",
       "0                            Braund, Mr. Owen Harris    male  22.0      1   \n",
       "1  Cumings, Mrs. John Bradley (Florence Briggs Th...  female  38.0      1   \n",
       "2                             Heikkinen, Miss. Laina  female  26.0      0   \n",
       "3       Futrelle, Mrs. Jacques Heath (Lily May Peel)  female  35.0      1   \n",
       "4                           Allen, Mr. William Henry    male  35.0      0   \n",
       "\n",
       "   Parch            Ticket     Fare Cabin Embarked  \n",
       "0      0         A/5 21171   7.2500   NaN        S  \n",
       "1      0          PC 17599  71.2833   C85        C  \n",
       "2      0  STON/O2. 3101282   7.9250   NaN        S  \n",
       "3      0            113803  53.1000  C123        S  \n",
       "4      0            373450   8.0500   NaN        S  "
      ]
     },
     "execution_count": 3,
     "metadata": {},
     "output_type": "execute_result"
    }
   ],
   "source": [
    "data_train.head()"
   ]
  },
  {
   "cell_type": "code",
   "execution_count": 4,
   "id": "ee90447e",
   "metadata": {},
   "outputs": [
    {
     "name": "stdout",
     "output_type": "stream",
     "text": [
      "<class 'pandas.core.frame.DataFrame'>\n",
      "RangeIndex: 891 entries, 0 to 890\n",
      "Data columns (total 12 columns):\n",
      " #   Column       Non-Null Count  Dtype  \n",
      "---  ------       --------------  -----  \n",
      " 0   PassengerId  891 non-null    int64  \n",
      " 1   Survived     891 non-null    int64  \n",
      " 2   Pclass       891 non-null    int64  \n",
      " 3   Name         891 non-null    object \n",
      " 4   Sex          891 non-null    object \n",
      " 5   Age          714 non-null    float64\n",
      " 6   SibSp        891 non-null    int64  \n",
      " 7   Parch        891 non-null    int64  \n",
      " 8   Ticket       891 non-null    object \n",
      " 9   Fare         891 non-null    float64\n",
      " 10  Cabin        204 non-null    object \n",
      " 11  Embarked     889 non-null    object \n",
      "dtypes: float64(2), int64(5), object(5)\n",
      "memory usage: 83.7+ KB\n"
     ]
    }
   ],
   "source": [
    "data_train.info()"
   ]
  },
  {
   "cell_type": "code",
   "execution_count": 5,
   "id": "66263850",
   "metadata": {},
   "outputs": [
    {
     "data": {
      "text/html": [
       "<div>\n",
       "<style scoped>\n",
       "    .dataframe tbody tr th:only-of-type {\n",
       "        vertical-align: middle;\n",
       "    }\n",
       "\n",
       "    .dataframe tbody tr th {\n",
       "        vertical-align: top;\n",
       "    }\n",
       "\n",
       "    .dataframe thead th {\n",
       "        text-align: right;\n",
       "    }\n",
       "</style>\n",
       "<table border=\"1\" class=\"dataframe\">\n",
       "  <thead>\n",
       "    <tr style=\"text-align: right;\">\n",
       "      <th></th>\n",
       "      <th>PassengerId</th>\n",
       "      <th>Survived</th>\n",
       "      <th>Pclass</th>\n",
       "      <th>Age</th>\n",
       "      <th>SibSp</th>\n",
       "      <th>Parch</th>\n",
       "      <th>Fare</th>\n",
       "    </tr>\n",
       "  </thead>\n",
       "  <tbody>\n",
       "    <tr>\n",
       "      <th>count</th>\n",
       "      <td>891.000000</td>\n",
       "      <td>891.000000</td>\n",
       "      <td>891.000000</td>\n",
       "      <td>714.000000</td>\n",
       "      <td>891.000000</td>\n",
       "      <td>891.000000</td>\n",
       "      <td>891.000000</td>\n",
       "    </tr>\n",
       "    <tr>\n",
       "      <th>mean</th>\n",
       "      <td>446.000000</td>\n",
       "      <td>0.383838</td>\n",
       "      <td>2.308642</td>\n",
       "      <td>29.699118</td>\n",
       "      <td>0.523008</td>\n",
       "      <td>0.381594</td>\n",
       "      <td>32.204208</td>\n",
       "    </tr>\n",
       "    <tr>\n",
       "      <th>std</th>\n",
       "      <td>257.353842</td>\n",
       "      <td>0.486592</td>\n",
       "      <td>0.836071</td>\n",
       "      <td>14.526497</td>\n",
       "      <td>1.102743</td>\n",
       "      <td>0.806057</td>\n",
       "      <td>49.693429</td>\n",
       "    </tr>\n",
       "    <tr>\n",
       "      <th>min</th>\n",
       "      <td>1.000000</td>\n",
       "      <td>0.000000</td>\n",
       "      <td>1.000000</td>\n",
       "      <td>0.420000</td>\n",
       "      <td>0.000000</td>\n",
       "      <td>0.000000</td>\n",
       "      <td>0.000000</td>\n",
       "    </tr>\n",
       "    <tr>\n",
       "      <th>25%</th>\n",
       "      <td>223.500000</td>\n",
       "      <td>0.000000</td>\n",
       "      <td>2.000000</td>\n",
       "      <td>20.125000</td>\n",
       "      <td>0.000000</td>\n",
       "      <td>0.000000</td>\n",
       "      <td>7.910400</td>\n",
       "    </tr>\n",
       "    <tr>\n",
       "      <th>50%</th>\n",
       "      <td>446.000000</td>\n",
       "      <td>0.000000</td>\n",
       "      <td>3.000000</td>\n",
       "      <td>28.000000</td>\n",
       "      <td>0.000000</td>\n",
       "      <td>0.000000</td>\n",
       "      <td>14.454200</td>\n",
       "    </tr>\n",
       "    <tr>\n",
       "      <th>75%</th>\n",
       "      <td>668.500000</td>\n",
       "      <td>1.000000</td>\n",
       "      <td>3.000000</td>\n",
       "      <td>38.000000</td>\n",
       "      <td>1.000000</td>\n",
       "      <td>0.000000</td>\n",
       "      <td>31.000000</td>\n",
       "    </tr>\n",
       "    <tr>\n",
       "      <th>max</th>\n",
       "      <td>891.000000</td>\n",
       "      <td>1.000000</td>\n",
       "      <td>3.000000</td>\n",
       "      <td>80.000000</td>\n",
       "      <td>8.000000</td>\n",
       "      <td>6.000000</td>\n",
       "      <td>512.329200</td>\n",
       "    </tr>\n",
       "  </tbody>\n",
       "</table>\n",
       "</div>"
      ],
      "text/plain": [
       "       PassengerId    Survived      Pclass         Age       SibSp  \\\n",
       "count   891.000000  891.000000  891.000000  714.000000  891.000000   \n",
       "mean    446.000000    0.383838    2.308642   29.699118    0.523008   \n",
       "std     257.353842    0.486592    0.836071   14.526497    1.102743   \n",
       "min       1.000000    0.000000    1.000000    0.420000    0.000000   \n",
       "25%     223.500000    0.000000    2.000000   20.125000    0.000000   \n",
       "50%     446.000000    0.000000    3.000000   28.000000    0.000000   \n",
       "75%     668.500000    1.000000    3.000000   38.000000    1.000000   \n",
       "max     891.000000    1.000000    3.000000   80.000000    8.000000   \n",
       "\n",
       "            Parch        Fare  \n",
       "count  891.000000  891.000000  \n",
       "mean     0.381594   32.204208  \n",
       "std      0.806057   49.693429  \n",
       "min      0.000000    0.000000  \n",
       "25%      0.000000    7.910400  \n",
       "50%      0.000000   14.454200  \n",
       "75%      0.000000   31.000000  \n",
       "max      6.000000  512.329200  "
      ]
     },
     "execution_count": 5,
     "metadata": {},
     "output_type": "execute_result"
    }
   ],
   "source": [
    "data_train.describe()"
   ]
  },
  {
   "cell_type": "code",
   "execution_count": 6,
   "id": "95dfcc9f",
   "metadata": {},
   "outputs": [
    {
     "name": "stdout",
     "output_type": "stream",
     "text": [
      "Categorical Variables: ['Name', 'Sex', 'Ticket', 'Cabin', 'Embarked']\n",
      "Numerical Variables: ['Survived', 'Pclass', 'Age', 'SibSp', 'Parch', 'Fare']\n"
     ]
    }
   ],
   "source": [
    "# Splitting columns into numerical and categorical\n",
    "categorical_cols = list(data_train.select_dtypes(exclude=['number','bool_']).columns)\n",
    "numerical_cols = [c for c in data_train.columns if c not in categorical_cols]\n",
    "numerical_cols.remove('PassengerId')\n",
    "\n",
    "print('Categorical Variables: {}'.format(categorical_cols))\n",
    "print('Numerical Variables: {}'.format(numerical_cols))"
   ]
  },
  {
   "cell_type": "markdown",
   "id": "66ff2c07",
   "metadata": {},
   "source": [
    "***\n",
    "#### Notes\n",
    "- There are 5 categorical and 5 numerical variables (+ the labels). These two groups of variables will be treated separetly in the next subsections.\n",
    "- For numerical variables, I will plot the distribution and check for outliers, need for normalization, and possible correlations with the label.\n",
    "- For categorical variables, I will check for possibility/necessity of encoding, correlations with labels and relevance.\n",
    "***"
   ]
  },
  {
   "cell_type": "markdown",
   "id": "b0b4cf6c",
   "metadata": {},
   "source": [
    "### 1.1 Exploring numerical data"
   ]
  },
  {
   "cell_type": "code",
   "execution_count": 7,
   "id": "5db56f68",
   "metadata": {},
   "outputs": [
    {
     "data": {
      "image/png": "[encoded data removed]",
      "text/plain": [
       "<Figure size 1152x648 with 6 Axes>"
      ]
     },
     "metadata": {
      "needs_background": "light"
     },
     "output_type": "display_data"
    }
   ],
   "source": [
    "# Plotting the single variable distributions of all numerical data\n",
    "fig, axs = plt.subplots(2, 3, figsize=(16, 9))\n",
    "axs = axs.flatten()\n",
    "\n",
    "for col, ax in zip(numerical_cols, axs):\n",
    "    sns.histplot(data_train, x=col, ax=ax)"
   ]
  },
  {
   "cell_type": "markdown",
   "id": "d274e1ee",
   "metadata": {},
   "source": [
    "***\n",
    "#### Ideas\n",
    "- *Pclass* is a code for the class of the passenger (1 - first class, 2 - second class ...). Therefore, the value of Pclass does not carry the actual ordinal information and the relationship between the classes. The one to treat this kind of variable is by **(one-hot) encoding** them into extra variables which indicates which class the passenger was into. In this case, I will encode Pclass into the variables **IsFirstClass** and **IsSecondClass**. The third class variable is not necessary because the same information can be obtained by the previous ones ( \"IsThirdClass == 1\" is equivalent to \"IsFirstClass == 0 and IsSecondClass == 0\").\n",
    "- *Fare* is a very skewed distribution, therefore it may be beneficial to normalize it through a log function.\n",
    "- *Age* is quite well behaved, gaussian-like distribution - nothing to do.\n",
    "- *SibSp* and *Parch* are also well behaved, but discrete distributions. They are also skewed, therefore it could be beneficial to perform a log normalization on them. \n",
    "***"
   ]
  },
  {
   "cell_type": "code",
   "execution_count": 8,
   "id": "1407b802",
   "metadata": {},
   "outputs": [
    {
     "data": {
      "text/plain": [
       "<AxesSubplot:>"
      ]
     },
     "execution_count": 8,
     "metadata": {},
     "output_type": "execute_result"
    },
    {
     "data": {
      "image/png": "[encoded data removed]",
      "text/plain": [
       "<Figure size 432x288 with 2 Axes>"
      ]
     },
     "metadata": {
      "needs_background": "light"
     },
     "output_type": "display_data"
    }
   ],
   "source": [
    "# Looking at the correlations\n",
    "sns.heatmap(\n",
    "    data_train[numerical_cols].corr(),\n",
    "    annot = True,\n",
    "    fmt = '.2f',\n",
    "    cmap = 'coolwarm'\n",
    ")"
   ]
  },
  {
   "cell_type": "markdown",
   "id": "d38c297a",
   "metadata": {},
   "source": [
    "***\n",
    "#### Notes\n",
    "- Negative correlation between *Pclass* and *Fare* because higher class (smaller *Pclass*) tickets should be more expensive.\n",
    "- Positive correlation between *Parch* and *SibSp* because both are related to the family size. Meaning that families travelling together will be higher on both variables.\n",
    "***"
   ]
  },
  {
   "cell_type": "markdown",
   "id": "f8f70b34",
   "metadata": {},
   "source": [
    "### 1.2 Exploring categorical data"
   ]
  },
  {
   "cell_type": "markdown",
   "id": "9eb165f8",
   "metadata": {},
   "source": [
    "#### 1.2.1 Cabin"
   ]
  },
  {
   "cell_type": "code",
   "execution_count": 9,
   "id": "34480f1d",
   "metadata": {},
   "outputs": [
    {
     "data": {
      "text/plain": [
       "0     NaN\n",
       "1     C85\n",
       "2     NaN\n",
       "3    C123\n",
       "4     NaN\n",
       "5     NaN\n",
       "6     E46\n",
       "7     NaN\n",
       "8     NaN\n",
       "9     NaN\n",
       "Name: Cabin, dtype: object"
      ]
     },
     "execution_count": 9,
     "metadata": {},
     "output_type": "execute_result"
    }
   ],
   "source": [
    "data_train['Cabin'].head(10)"
   ]
  },
  {
   "cell_type": "code",
   "execution_count": 10,
   "id": "9400d6a8",
   "metadata": {},
   "outputs": [
    {
     "data": {
      "text/plain": [
       "1             C85\n",
       "3            C123\n",
       "6             E46\n",
       "10             G6\n",
       "11           C103\n",
       "21            D56\n",
       "23             A6\n",
       "27    C23 C25 C27\n",
       "31            B78\n",
       "52            D33\n",
       "54            B30\n",
       "55            C52\n",
       "61            B28\n",
       "62            C83\n",
       "66            F33\n",
       "75          F G73\n",
       "88    C23 C25 C27\n",
       "92            E31\n",
       "96             A5\n",
       "97        D10 D12\n",
       "Name: Cabin, dtype: object"
      ]
     },
     "execution_count": 10,
     "metadata": {},
     "output_type": "execute_result"
    }
   ],
   "source": [
    "data_train['Cabin'].dropna().head(20)"
   ]
  },
  {
   "cell_type": "markdown",
   "id": "036f1a3a",
   "metadata": {},
   "source": [
    "***\n",
    "#### Notes\n",
    "- Large fraction of missing data.\n",
    "- Follows the pattern \"single letter + number\".\n",
    "- There may be multiple cabins for the same passenger.\n",
    "***\n",
    "\n",
    "***\n",
    "#### Ideas\n",
    "- The first letter (cabin group) could carry relevant information.\n",
    "- The number of cabins could carry relevant information.\n",
    "***"
   ]
  },
  {
   "cell_type": "code",
   "execution_count": 11,
   "id": "8f3d8d91",
   "metadata": {},
   "outputs": [],
   "source": [
    "# Cabin group (first letter of the cabin)\n",
    "def get_cabin_group(cabin):\n",
    "    ''' Returns cabin group for a given cabin value'''\n",
    "    if isinstance(cabin, str):\n",
    "        cabin_split = cabin.split()\n",
    "        return cabin_split[0][0]\n",
    "    else:\n",
    "        return 'none'"
   ]
  },
  {
   "cell_type": "code",
   "execution_count": 12,
   "id": "7accf31d",
   "metadata": {},
   "outputs": [],
   "source": [
    "# Apllying get_cabin_group to Cabin data\n",
    "data_train['CabinGroup'] = data_train['Cabin'].map(get_cabin_group)"
   ]
  },
  {
   "cell_type": "code",
   "execution_count": 13,
   "id": "371921ff",
   "metadata": {},
   "outputs": [
    {
     "data": {
      "text/plain": [
       "Text(0.5, 1.0, 'Survival Probability by SibSp')"
      ]
     },
     "execution_count": 13,
     "metadata": {},
     "output_type": "execute_result"
    },
    {
     "data": {
      "image/png": "[encoded data removed]",
      "text/plain": [
       "<Figure size 432x288 with 1 Axes>"
      ]
     },
     "metadata": {
      "needs_background": "light"
     },
     "output_type": "display_data"
    }
   ],
   "source": [
    "# Plotting  survival rates for each CabinGroup\n",
    "sns.barplot(x='CabinGroup', y='Survived', data=data_train)\n",
    "plt.ylabel('Survival Probability')\n",
    "plt.title('Survival Probability by SibSp')"
   ]
  },
  {
   "cell_type": "markdown",
   "id": "a4aeba0d",
   "metadata": {},
   "source": [
    "***\n",
    "#### Conclusion\n",
    "- *CabinGroup* **is not significantly correlated** with the surviving probability, the distributions is quite flat. The *CabinGroup* would need to be one-hot encoded later, which means 9 more variables. To avoid having to deal with too many variables I will not use *CabinGroup* for the classification. \n",
    "***"
   ]
  },
  {
   "cell_type": "code",
   "execution_count": 14,
   "id": "e5dc82b2",
   "metadata": {},
   "outputs": [],
   "source": [
    "# Cabin Number\n",
    "def get_cabin_number(cabin):\n",
    "    ''' Returns number of cabins for each Cabin value. \n",
    "        Note: Missing Cabin will be considered as CabinNumber 0. '''\n",
    "    if isinstance(cabin, str):\n",
    "        cabin_split = cabin.split()\n",
    "        return len(cabin_split)\n",
    "    else:\n",
    "        return 0"
   ]
  },
  {
   "cell_type": "code",
   "execution_count": 15,
   "id": "f488f7db",
   "metadata": {},
   "outputs": [],
   "source": [
    "# Applying get_cabin_number for Cabin data. \n",
    "data_train['CabinNumber'] = data_train['Cabin'].map(get_cabin_number)"
   ]
  },
  {
   "cell_type": "code",
   "execution_count": 16,
   "id": "985c3f62",
   "metadata": {},
   "outputs": [
    {
     "data": {
      "text/plain": [
       "Text(0.5, 1.0, 'Survival Probability by SibSp')"
      ]
     },
     "execution_count": 16,
     "metadata": {},
     "output_type": "execute_result"
    },
    {
     "data": {
      "image/png": "[encoded data removed]",
      "text/plain": [
       "<Figure size 432x288 with 1 Axes>"
      ]
     },
     "metadata": {
      "needs_background": "light"
     },
     "output_type": "display_data"
    }
   ],
   "source": [
    "# Plotting  survival rates for each CabinNumber\n",
    "sns.barplot(x='CabinNumber', y='Survived', data=data_train)\n",
    "plt.ylabel('Survival Probability')\n",
    "plt.title('Survival Probability by SibSp')"
   ]
  },
  {
   "cell_type": "markdown",
   "id": "e695adf7",
   "metadata": {},
   "source": [
    "***\n",
    "#### Conclusion\n",
    "- Again, *CabinNumber* **is not significantly correlated** with the surviving probability, the distributions is quite flat. It seems thought that 0 Cabin has a significantly lower survival rate than *CabinNumber* > 0. I will follow up on that by having a look at the correlation between passengers that have or not a *Cabin*.\n",
    "***"
   ]
  },
  {
   "cell_type": "code",
   "execution_count": 17,
   "id": "55d4c2eb",
   "metadata": {},
   "outputs": [],
   "source": [
    "# Has Cabin\n",
    "def get_has_cabin(cabin):\n",
    "    ''' Returns 1 if passenger has a Cabin and 0 if not. '''\n",
    "    return 1 if isinstance(cabin, str) else 0"
   ]
  },
  {
   "cell_type": "code",
   "execution_count": 18,
   "id": "85d46bb6",
   "metadata": {},
   "outputs": [],
   "source": [
    "# Applygin get_has_cabin to Cabin data\n",
    "data_train['HasCabin'] = data_train['Cabin'].map(get_has_cabin)"
   ]
  },
  {
   "cell_type": "code",
   "execution_count": 19,
   "id": "7b348a70",
   "metadata": {},
   "outputs": [
    {
     "data": {
      "text/plain": [
       "Text(0.5, 1.0, 'Survival Probability by SibSp')"
      ]
     },
     "execution_count": 19,
     "metadata": {},
     "output_type": "execute_result"
    },
    {
     "data": {
      "image/png": "[encoded data removed]",
      "text/plain": [
       "<Figure size 432x288 with 1 Axes>"
      ]
     },
     "metadata": {
      "needs_background": "light"
     },
     "output_type": "display_data"
    }
   ],
   "source": [
    "# Plotting  survival rates for each HasCabin\n",
    "sns.barplot(x='HasCabin', y='Survived', data=data_train)\n",
    "plt.ylabel('Survival Probability')\n",
    "plt.title('Survival Probability by SibSp')"
   ]
  },
  {
   "cell_type": "markdown",
   "id": "2b705261",
   "metadata": {},
   "source": [
    "***\n",
    "#### Conclusion\n",
    "- *HasCabin* seems to **carry some information** about the survival probability. I will keep *HasCabin* as a final variable for the classification.\n",
    "***"
   ]
  },
  {
   "cell_type": "markdown",
   "id": "77617a9c",
   "metadata": {},
   "source": [
    "#### 1.2.2 Ticket"
   ]
  },
  {
   "cell_type": "code",
   "execution_count": 20,
   "id": "7e3e26b0",
   "metadata": {},
   "outputs": [
    {
     "data": {
      "text/plain": [
       "0            A/5 21171\n",
       "1             PC 17599\n",
       "2     STON/O2. 3101282\n",
       "3               113803\n",
       "4               373450\n",
       "5               330877\n",
       "6                17463\n",
       "7               349909\n",
       "8               347742\n",
       "9               237736\n",
       "10             PP 9549\n",
       "11              113783\n",
       "12           A/5. 2151\n",
       "13              347082\n",
       "14              350406\n",
       "15              248706\n",
       "16              382652\n",
       "17              244373\n",
       "18              345763\n",
       "19                2649\n",
       "Name: Ticket, dtype: object"
      ]
     },
     "execution_count": 20,
     "metadata": {},
     "output_type": "execute_result"
    }
   ],
   "source": [
    "data_train['Ticket'].head(20)"
   ]
  },
  {
   "cell_type": "markdown",
   "id": "1f1f545c",
   "metadata": {},
   "source": [
    "***\n",
    "#### Notes\n",
    "- Multiple patterns (single numbers, letter patterns + numbers ...)\n",
    "- I will try to extract information by separating passengers with a ticket that is a number fromthe others (number + letter pattern). \n",
    "***"
   ]
  },
  {
   "cell_type": "code",
   "execution_count": 21,
   "id": "ddfb2c61",
   "metadata": {},
   "outputs": [],
   "source": [
    "def get_is_number(ticket):\n",
    "    ''' return flag for ticket that are numbers. '''\n",
    "    try:\n",
    "        float(ticket)\n",
    "        return 1\n",
    "    except:\n",
    "        return 0"
   ]
  },
  {
   "cell_type": "code",
   "execution_count": 22,
   "id": "a0cde579",
   "metadata": {},
   "outputs": [],
   "source": [
    "# Applying get_is_number to Ticket data\n",
    "data_train['IsTicketNumber'] = data_train['Ticket'].map(get_is_number)"
   ]
  },
  {
   "cell_type": "code",
   "execution_count": 23,
   "id": "5fd85e41",
   "metadata": {},
   "outputs": [
    {
     "data": {
      "text/plain": [
       "Text(0.5, 1.0, 'Survival Probability by IsTicketNumber')"
      ]
     },
     "execution_count": 23,
     "metadata": {},
     "output_type": "execute_result"
    },
    {
     "data": {
      "image/png": "[encoded data removed]",
      "text/plain": [
       "<Figure size 432x288 with 1 Axes>"
      ]
     },
     "metadata": {
      "needs_background": "light"
     },
     "output_type": "display_data"
    }
   ],
   "source": [
    "# Plotting survival rates for each IsNumber\n",
    "sns.barplot(x='IsTicketNumber', y='Survived', data=data_train)\n",
    "plt.ylabel('Survival Probability')\n",
    "plt.title('Survival Probability by IsTicketNumber')"
   ]
  },
  {
   "cell_type": "markdown",
   "id": "137de0e3",
   "metadata": {},
   "source": [
    "***\n",
    "#### Conclusions\n",
    "- *IsTicketNumber* has no information about survival rates. I will **drop completely** the *Ticket* variable.\n",
    "***"
   ]
  },
  {
   "cell_type": "markdown",
   "id": "8bf31897",
   "metadata": {},
   "source": [
    "### 1.2.3. Name"
   ]
  },
  {
   "cell_type": "code",
   "execution_count": 24,
   "id": "40c4dbf3",
   "metadata": {},
   "outputs": [
    {
     "data": {
      "text/plain": [
       "0                              Braund, Mr. Owen Harris\n",
       "1    Cumings, Mrs. John Bradley (Florence Briggs Th...\n",
       "2                               Heikkinen, Miss. Laina\n",
       "3         Futrelle, Mrs. Jacques Heath (Lily May Peel)\n",
       "4                             Allen, Mr. William Henry\n",
       "5                                     Moran, Mr. James\n",
       "6                              McCarthy, Mr. Timothy J\n",
       "7                       Palsson, Master. Gosta Leonard\n",
       "8    Johnson, Mrs. Oscar W (Elisabeth Vilhelmina Berg)\n",
       "9                  Nasser, Mrs. Nicholas (Adele Achem)\n",
       "Name: Name, dtype: object"
      ]
     },
     "execution_count": 24,
     "metadata": {},
     "output_type": "execute_result"
    }
   ],
   "source": [
    "data_train['Name'].head(10)"
   ]
  },
  {
   "cell_type": "markdown",
   "id": "c8fdbadd",
   "metadata": {},
   "source": [
    "***\n",
    "#### Notes\n",
    "- *Name* is of course a specific variable for each passenger. The only possible information we can extract is the **title**.\n",
    "- I found a list of may different titles, from which several appered only 1 or 2 times in the dataset. I then selected only the ones which appeared a number of times (Mr, Mrs, Ms, Miss, Dr, Rev) and grouped all the remanining ones into the code Other. \n",
    "***"
   ]
  },
  {
   "cell_type": "code",
   "execution_count": 25,
   "id": "370ea43e",
   "metadata": {},
   "outputs": [],
   "source": [
    "# Extract title from Name data\n",
    "title_dict = {\n",
    "    'Mr.': 'Mr',\n",
    "    'Mrs.': 'Mrs',\n",
    "    'Ms.': 'Ms',\n",
    "    'Master.': 'Ms',\n",
    "    'Miss.': 'Miss',\n",
    "    'Dr.': 'Dr',\n",
    "    'Rev.': 'Rev'\n",
    "}\n",
    "\n",
    "def get_title_from_name(name):\n",
    "    ''' Return NameTitle for each given Name. '''\n",
    "    for word in name.split():\n",
    "        if word[-1] != '.':\n",
    "            continue\n",
    "        return title_dict[word] if word in title_dict.keys() else 'Other'\n",
    "\n",
    "    print('Warning: NameTitle was not extracted properly. ')\n",
    "    return None"
   ]
  },
  {
   "cell_type": "code",
   "execution_count": 26,
   "id": "f59ab9fb",
   "metadata": {},
   "outputs": [],
   "source": [
    "# Applying get_title_from_name to Name data\n",
    "data_train['NameTitle'] = data_train['Name'].map(get_title_from_name)"
   ]
  },
  {
   "cell_type": "code",
   "execution_count": 27,
   "id": "1bc77980",
   "metadata": {},
   "outputs": [
    {
     "data": {
      "text/plain": [
       "Mr       517\n",
       "Miss     182\n",
       "Mrs      125\n",
       "Ms        41\n",
       "Other     13\n",
       "Dr         7\n",
       "Rev        6\n",
       "Name: NameTitle, dtype: int64"
      ]
     },
     "execution_count": 27,
     "metadata": {},
     "output_type": "execute_result"
    }
   ],
   "source": [
    "data_train['NameTitle'].value_counts()"
   ]
  },
  {
   "cell_type": "code",
   "execution_count": 28,
   "id": "1e51721d",
   "metadata": {},
   "outputs": [
    {
     "data": {
      "text/plain": [
       "Text(0.5, 1.0, 'Survival Probability by NameTitle')"
      ]
     },
     "execution_count": 28,
     "metadata": {},
     "output_type": "execute_result"
    },
    {
     "data": {
      "image/png": "[encoded data removed]",
      "text/plain": [
       "<Figure size 432x288 with 1 Axes>"
      ]
     },
     "metadata": {
      "needs_background": "light"
     },
     "output_type": "display_data"
    }
   ],
   "source": [
    "# Plotting survival rates for each NameTitle\n",
    "sns.barplot(x='NameTitle', y='Survived', data=data_train)\n",
    "plt.ylabel('Survival Probability')\n",
    "plt.title('Survival Probability by NameTitle')"
   ]
  },
  {
   "cell_type": "markdown",
   "id": "4bafa1e7",
   "metadata": {},
   "source": [
    "***\n",
    "#### Conclusion\n",
    "- There are differences in survival rates between *NameTitle*. In particular, Mr shows a much lower survival rate than the rest and Rev shows 0 survival probability. I will keep this variable for the classification.\n",
    "***"
   ]
  },
  {
   "cell_type": "markdown",
   "id": "65df883a",
   "metadata": {},
   "source": [
    "#### 1.2.4. Sex"
   ]
  },
  {
   "cell_type": "code",
   "execution_count": 29,
   "id": "650a3f8e",
   "metadata": {},
   "outputs": [
    {
     "data": {
      "text/plain": [
       "male      577\n",
       "female    314\n",
       "Name: Sex, dtype: int64"
      ]
     },
     "execution_count": 29,
     "metadata": {},
     "output_type": "execute_result"
    }
   ],
   "source": [
    "data_train['Sex'].value_counts()"
   ]
  },
  {
   "cell_type": "code",
   "execution_count": 30,
   "id": "c0647cdf",
   "metadata": {},
   "outputs": [
    {
     "data": {
      "text/plain": [
       "Text(0.5, 1.0, 'Survival Probability by Sex')"
      ]
     },
     "execution_count": 30,
     "metadata": {},
     "output_type": "execute_result"
    },
    {
     "data": {
      "image/png": "[encoded data removed]",
      "text/plain": [
       "<Figure size 432x288 with 1 Axes>"
      ]
     },
     "metadata": {
      "needs_background": "light"
     },
     "output_type": "display_data"
    }
   ],
   "source": [
    "# Plotting survival rates for each Sex\n",
    "sns.barplot(x='Sex', y='Survived', data=data_train)\n",
    "plt.ylabel('Survival Probability')\n",
    "plt.title('Survival Probability by Sex')"
   ]
  },
  {
   "cell_type": "markdown",
   "id": "623fd81a",
   "metadata": {},
   "source": [
    "***\n",
    "#### Conclusion\n",
    "- *Sex* is a very relevant variable and will be kept as it it.\n",
    "***"
   ]
  },
  {
   "cell_type": "markdown",
   "id": "3f0140dc",
   "metadata": {},
   "source": [
    "#### 1.2.5. Embarked"
   ]
  },
  {
   "cell_type": "code",
   "execution_count": 31,
   "id": "ceaaf119",
   "metadata": {},
   "outputs": [
    {
     "data": {
      "text/plain": [
       "S    644\n",
       "C    168\n",
       "Q     77\n",
       "Name: Embarked, dtype: int64"
      ]
     },
     "execution_count": 31,
     "metadata": {},
     "output_type": "execute_result"
    }
   ],
   "source": [
    "data_train['Embarked'].value_counts()"
   ]
  },
  {
   "cell_type": "code",
   "execution_count": 32,
   "id": "fab74718",
   "metadata": {},
   "outputs": [
    {
     "data": {
      "text/plain": [
       "Text(0.5, 1.0, 'Survival Probability by Embarked')"
      ]
     },
     "execution_count": 32,
     "metadata": {},
     "output_type": "execute_result"
    },
    {
     "data": {
      "image/png": "[encoded data removed]",
      "text/plain": [
       "<Figure size 432x288 with 1 Axes>"
      ]
     },
     "metadata": {
      "needs_background": "light"
     },
     "output_type": "display_data"
    }
   ],
   "source": [
    "# Plotting survival rates for each Embarked\n",
    "sns.barplot(x='Embarked', y='Survived', data=data_train)\n",
    "plt.ylabel('Survival Probability')\n",
    "plt.title('Survival Probability by Embarked')"
   ]
  },
  {
   "cell_type": "markdown",
   "id": "55ebf122",
   "metadata": {},
   "source": [
    "***\n",
    "#### Conclusion\n",
    "- *Embarked* is potentially relevant for the classification.\n",
    "- Because there are only 3 values, I will keep it as it is and encode it in the next section.\n",
    "***"
   ]
  },
  {
   "cell_type": "markdown",
   "id": "1191d675",
   "metadata": {},
   "source": [
    "<a id='data_processing'></a>\n",
    "## 2. Processing the data (cleaning and feature engeneering)"
   ]
  },
  {
   "cell_type": "markdown",
   "id": "9535dd5d",
   "metadata": {},
   "source": [
    "***\n",
    "All the conclusions from the previous section will be incorporated into one function called process_data. The missing values for the numerical variables will be filled with the means. This is not very relevant since the missing value rates are very small for the numerical variables, apart from *Age*. For *Age*, it still seems reasonable to replace the missing valuesfor its mean.\n",
    "***"
   ]
  },
  {
   "cell_type": "markdown",
   "id": "84f16e36",
   "metadata": {},
   "source": [
    "### 2.1 Processing data\n",
    "\n",
    "***\n",
    "#### Relevant steps\n",
    "- *Pclass* is one-hot encoded into *IsFirstClass* and *IsSecondClass*.\n",
    "- *Fare* is log normalized and replaced by *NormFare*.\n",
    "- *Name* is turned into *NameTitle*, which is one-hot encoded into *IsTitleMr* etc.\n",
    "- *Cabin* is replaced by *HasCabin*.\n",
    "- *Sex* is one-hot encoded and replaced by *Is_male* only.\n",
    "- *Embarked* is one-hot encoded. We are left with *EmbarkedS* and *EmbarkedQ*.\n",
    "***"
   ]
  },
  {
   "cell_type": "code",
   "execution_count": 33,
   "id": "916e06ba",
   "metadata": {},
   "outputs": [],
   "source": [
    "def process_data(data):\n",
    "    '''\n",
    "    Parameters\n",
    "    ----------\n",
    "    data: DataFrame\n",
    "        Raw data (train or test)\n",
    "        \n",
    "    Returns\n",
    "    -------\n",
    "    DataFrame\n",
    "        Processed data.\n",
    "    '''\n",
    "    df_out = pd.DataFrame()\n",
    "\n",
    "    # Copying PassengerId\n",
    "    df_out['PassengerId'] = data['PassengerId']\n",
    "    \n",
    "    # Copying Survived (if existing)\n",
    "    if 'Survived' in data.columns:\n",
    "        df_out['Survived'] = data['Survived']\n",
    "    \n",
    "    ## Numerical data\n",
    "    # Pclass - one-hot encoding\n",
    "    df_Pclass = pd.get_dummies(\n",
    "        data['Pclass'],\n",
    "        drop_first=False\n",
    "    )\n",
    "    df_out['IsFirstClass'] = df_Pclass[1]\n",
    "    df_out['IsSecondClass'] = df_Pclass[2]\n",
    "\n",
    "    # Age\n",
    "    df_out['Age'] = data['Age']\n",
    "    df_out['Age'].fillna(df_out['Age'].mean(), inplace=True)\n",
    "    \n",
    "    # SibSp\n",
    "    df_out['SibSp'] = data['SibSp']\n",
    "    df_out['SibSp'].fillna(df_out['SibSp'].mean(), inplace=True)\n",
    "\n",
    "    # Parch\n",
    "    df_out['Parch'] = data['Parch']\n",
    "    df_out['Parch'].fillna(df_out['Parch'].mean(), inplace=True)\n",
    "    \n",
    "    # Fare\n",
    "    df_out['NormFare'] = np.log(data['Fare'] + 1)\n",
    "    df_out['NormFare'].fillna(df_out['NormFare'].mean(), inplace=True)\n",
    "    \n",
    "    ## Categorical data\n",
    "    # Name\n",
    "    df_NameTitle = data['Name'].map(get_title_from_name)\n",
    "    df_NameTitleDummies = pd.get_dummies(\n",
    "        df_NameTitle,\n",
    "        prefix='IsTitle',\n",
    "        prefix_sep='',\n",
    "        drop_first=True\n",
    "    )\n",
    "    for var in df_NameTitleDummies.columns:\n",
    "        df_out[var] = df_NameTitleDummies[var]\n",
    "    \n",
    "    # Cabin\n",
    "    df_out['HasCabin'] = data['Cabin'].map(get_has_cabin)\n",
    "\n",
    "    # Sex\n",
    "    df_SexDummies = pd.get_dummies(\n",
    "        data['Sex'],\n",
    "        prefix='Is',\n",
    "        prefix_sep='_',\n",
    "        drop_first=True\n",
    "    )\n",
    "    for var in df_SexDummies.columns:\n",
    "        df_out[var] = df_SexDummies[var]\n",
    "    \n",
    "    # Embarked\n",
    "    df_EmbarkedDummies = pd.get_dummies(\n",
    "        data['Embarked'],\n",
    "        prefix='Embarked',\n",
    "        prefix_sep='',\n",
    "        drop_first=True\n",
    "    )\n",
    "    for var in df_EmbarkedDummies.columns:\n",
    "        df_out[var] = df_EmbarkedDummies[var]\n",
    "    \n",
    "    return df_out"
   ]
  },
  {
   "cell_type": "code",
   "execution_count": 34,
   "id": "5909a73c",
   "metadata": {},
   "outputs": [],
   "source": [
    "# Loading raw data (train and test)\n",
    "raw_data_train = pd.read_csv('data/train.csv')\n",
    "raw_data_test = pd.read_csv('data/test.csv')"
   ]
  },
  {
   "cell_type": "code",
   "execution_count": 35,
   "id": "f41ab09f",
   "metadata": {},
   "outputs": [],
   "source": [
    "# Process train and test raw data\n",
    "processed_data_train = process_data(raw_data_train)\n",
    "processed_data_test = process_data(raw_data_test)"
   ]
  },
  {
   "cell_type": "code",
   "execution_count": 36,
   "id": "057f287a",
   "metadata": {},
   "outputs": [
    {
     "data": {
      "text/html": [
       "<div>\n",
       "<style scoped>\n",
       "    .dataframe tbody tr th:only-of-type {\n",
       "        vertical-align: middle;\n",
       "    }\n",
       "\n",
       "    .dataframe tbody tr th {\n",
       "        vertical-align: top;\n",
       "    }\n",
       "\n",
       "    .dataframe thead th {\n",
       "        text-align: right;\n",
       "    }\n",
       "</style>\n",
       "<table border=\"1\" class=\"dataframe\">\n",
       "  <thead>\n",
       "    <tr style=\"text-align: right;\">\n",
       "      <th></th>\n",
       "      <th>PassengerId</th>\n",
       "      <th>Survived</th>\n",
       "      <th>IsFirstClass</th>\n",
       "      <th>IsSecondClass</th>\n",
       "      <th>Age</th>\n",
       "      <th>SibSp</th>\n",
       "      <th>Parch</th>\n",
       "      <th>NormFare</th>\n",
       "      <th>IsTitleMiss</th>\n",
       "      <th>IsTitleMr</th>\n",
       "      <th>IsTitleMrs</th>\n",
       "      <th>IsTitleMs</th>\n",
       "      <th>IsTitleOther</th>\n",
       "      <th>IsTitleRev</th>\n",
       "      <th>HasCabin</th>\n",
       "      <th>Is_male</th>\n",
       "      <th>EmbarkedQ</th>\n",
       "      <th>EmbarkedS</th>\n",
       "    </tr>\n",
       "  </thead>\n",
       "  <tbody>\n",
       "    <tr>\n",
       "      <th>0</th>\n",
       "      <td>1</td>\n",
       "      <td>0</td>\n",
       "      <td>0</td>\n",
       "      <td>0</td>\n",
       "      <td>22.0</td>\n",
       "      <td>1</td>\n",
       "      <td>0</td>\n",
       "      <td>2.110213</td>\n",
       "      <td>0</td>\n",
       "      <td>1</td>\n",
       "      <td>0</td>\n",
       "      <td>0</td>\n",
       "      <td>0</td>\n",
       "      <td>0</td>\n",
       "      <td>0</td>\n",
       "      <td>1</td>\n",
       "      <td>0</td>\n",
       "      <td>1</td>\n",
       "    </tr>\n",
       "    <tr>\n",
       "      <th>1</th>\n",
       "      <td>2</td>\n",
       "      <td>1</td>\n",
       "      <td>1</td>\n",
       "      <td>0</td>\n",
       "      <td>38.0</td>\n",
       "      <td>1</td>\n",
       "      <td>0</td>\n",
       "      <td>4.280593</td>\n",
       "      <td>0</td>\n",
       "      <td>0</td>\n",
       "      <td>1</td>\n",
       "      <td>0</td>\n",
       "      <td>0</td>\n",
       "      <td>0</td>\n",
       "      <td>1</td>\n",
       "      <td>0</td>\n",
       "      <td>0</td>\n",
       "      <td>0</td>\n",
       "    </tr>\n",
       "    <tr>\n",
       "      <th>2</th>\n",
       "      <td>3</td>\n",
       "      <td>1</td>\n",
       "      <td>0</td>\n",
       "      <td>0</td>\n",
       "      <td>26.0</td>\n",
       "      <td>0</td>\n",
       "      <td>0</td>\n",
       "      <td>2.188856</td>\n",
       "      <td>1</td>\n",
       "      <td>0</td>\n",
       "      <td>0</td>\n",
       "      <td>0</td>\n",
       "      <td>0</td>\n",
       "      <td>0</td>\n",
       "      <td>0</td>\n",
       "      <td>0</td>\n",
       "      <td>0</td>\n",
       "      <td>1</td>\n",
       "    </tr>\n",
       "    <tr>\n",
       "      <th>3</th>\n",
       "      <td>4</td>\n",
       "      <td>1</td>\n",
       "      <td>1</td>\n",
       "      <td>0</td>\n",
       "      <td>35.0</td>\n",
       "      <td>1</td>\n",
       "      <td>0</td>\n",
       "      <td>3.990834</td>\n",
       "      <td>0</td>\n",
       "      <td>0</td>\n",
       "      <td>1</td>\n",
       "      <td>0</td>\n",
       "      <td>0</td>\n",
       "      <td>0</td>\n",
       "      <td>1</td>\n",
       "      <td>0</td>\n",
       "      <td>0</td>\n",
       "      <td>1</td>\n",
       "    </tr>\n",
       "    <tr>\n",
       "      <th>4</th>\n",
       "      <td>5</td>\n",
       "      <td>0</td>\n",
       "      <td>0</td>\n",
       "      <td>0</td>\n",
       "      <td>35.0</td>\n",
       "      <td>0</td>\n",
       "      <td>0</td>\n",
       "      <td>2.202765</td>\n",
       "      <td>0</td>\n",
       "      <td>1</td>\n",
       "      <td>0</td>\n",
       "      <td>0</td>\n",
       "      <td>0</td>\n",
       "      <td>0</td>\n",
       "      <td>0</td>\n",
       "      <td>1</td>\n",
       "      <td>0</td>\n",
       "      <td>1</td>\n",
       "    </tr>\n",
       "  </tbody>\n",
       "</table>\n",
       "</div>"
      ],
      "text/plain": [
       "   PassengerId  Survived  IsFirstClass  IsSecondClass   Age  SibSp  Parch  \\\n",
       "0            1         0             0              0  22.0      1      0   \n",
       "1            2         1             1              0  38.0      1      0   \n",
       "2            3         1             0              0  26.0      0      0   \n",
       "3            4         1             1              0  35.0      1      0   \n",
       "4            5         0             0              0  35.0      0      0   \n",
       "\n",
       "   NormFare  IsTitleMiss  IsTitleMr  IsTitleMrs  IsTitleMs  IsTitleOther  \\\n",
       "0  2.110213            0          1           0          0             0   \n",
       "1  4.280593            0          0           1          0             0   \n",
       "2  2.188856            1          0           0          0             0   \n",
       "3  3.990834            0          0           1          0             0   \n",
       "4  2.202765            0          1           0          0             0   \n",
       "\n",
       "   IsTitleRev  HasCabin  Is_male  EmbarkedQ  EmbarkedS  \n",
       "0           0         0        1          0          1  \n",
       "1           0         1        0          0          0  \n",
       "2           0         0        0          0          1  \n",
       "3           0         1        0          0          1  \n",
       "4           0         0        1          0          1  "
      ]
     },
     "execution_count": 36,
     "metadata": {},
     "output_type": "execute_result"
    }
   ],
   "source": [
    "processed_data_train.head()"
   ]
  },
  {
   "cell_type": "code",
   "execution_count": 37,
   "id": "87482e6a",
   "metadata": {},
   "outputs": [
    {
     "data": {
      "text/html": [
       "<div>\n",
       "<style scoped>\n",
       "    .dataframe tbody tr th:only-of-type {\n",
       "        vertical-align: middle;\n",
       "    }\n",
       "\n",
       "    .dataframe tbody tr th {\n",
       "        vertical-align: top;\n",
       "    }\n",
       "\n",
       "    .dataframe thead th {\n",
       "        text-align: right;\n",
       "    }\n",
       "</style>\n",
       "<table border=\"1\" class=\"dataframe\">\n",
       "  <thead>\n",
       "    <tr style=\"text-align: right;\">\n",
       "      <th></th>\n",
       "      <th>PassengerId</th>\n",
       "      <th>IsFirstClass</th>\n",
       "      <th>IsSecondClass</th>\n",
       "      <th>Age</th>\n",
       "      <th>SibSp</th>\n",
       "      <th>Parch</th>\n",
       "      <th>NormFare</th>\n",
       "      <th>IsTitleMiss</th>\n",
       "      <th>IsTitleMr</th>\n",
       "      <th>IsTitleMrs</th>\n",
       "      <th>IsTitleMs</th>\n",
       "      <th>IsTitleOther</th>\n",
       "      <th>IsTitleRev</th>\n",
       "      <th>HasCabin</th>\n",
       "      <th>Is_male</th>\n",
       "      <th>EmbarkedQ</th>\n",
       "      <th>EmbarkedS</th>\n",
       "    </tr>\n",
       "  </thead>\n",
       "  <tbody>\n",
       "    <tr>\n",
       "      <th>0</th>\n",
       "      <td>892</td>\n",
       "      <td>0</td>\n",
       "      <td>0</td>\n",
       "      <td>34.5</td>\n",
       "      <td>0</td>\n",
       "      <td>0</td>\n",
       "      <td>2.178064</td>\n",
       "      <td>0</td>\n",
       "      <td>1</td>\n",
       "      <td>0</td>\n",
       "      <td>0</td>\n",
       "      <td>0</td>\n",
       "      <td>0</td>\n",
       "      <td>0</td>\n",
       "      <td>1</td>\n",
       "      <td>1</td>\n",
       "      <td>0</td>\n",
       "    </tr>\n",
       "    <tr>\n",
       "      <th>1</th>\n",
       "      <td>893</td>\n",
       "      <td>0</td>\n",
       "      <td>0</td>\n",
       "      <td>47.0</td>\n",
       "      <td>1</td>\n",
       "      <td>0</td>\n",
       "      <td>2.079442</td>\n",
       "      <td>0</td>\n",
       "      <td>0</td>\n",
       "      <td>1</td>\n",
       "      <td>0</td>\n",
       "      <td>0</td>\n",
       "      <td>0</td>\n",
       "      <td>0</td>\n",
       "      <td>0</td>\n",
       "      <td>0</td>\n",
       "      <td>1</td>\n",
       "    </tr>\n",
       "    <tr>\n",
       "      <th>2</th>\n",
       "      <td>894</td>\n",
       "      <td>0</td>\n",
       "      <td>1</td>\n",
       "      <td>62.0</td>\n",
       "      <td>0</td>\n",
       "      <td>0</td>\n",
       "      <td>2.369075</td>\n",
       "      <td>0</td>\n",
       "      <td>1</td>\n",
       "      <td>0</td>\n",
       "      <td>0</td>\n",
       "      <td>0</td>\n",
       "      <td>0</td>\n",
       "      <td>0</td>\n",
       "      <td>1</td>\n",
       "      <td>1</td>\n",
       "      <td>0</td>\n",
       "    </tr>\n",
       "    <tr>\n",
       "      <th>3</th>\n",
       "      <td>895</td>\n",
       "      <td>0</td>\n",
       "      <td>0</td>\n",
       "      <td>27.0</td>\n",
       "      <td>0</td>\n",
       "      <td>0</td>\n",
       "      <td>2.268252</td>\n",
       "      <td>0</td>\n",
       "      <td>1</td>\n",
       "      <td>0</td>\n",
       "      <td>0</td>\n",
       "      <td>0</td>\n",
       "      <td>0</td>\n",
       "      <td>0</td>\n",
       "      <td>1</td>\n",
       "      <td>0</td>\n",
       "      <td>1</td>\n",
       "    </tr>\n",
       "    <tr>\n",
       "      <th>4</th>\n",
       "      <td>896</td>\n",
       "      <td>0</td>\n",
       "      <td>0</td>\n",
       "      <td>22.0</td>\n",
       "      <td>1</td>\n",
       "      <td>1</td>\n",
       "      <td>2.586824</td>\n",
       "      <td>0</td>\n",
       "      <td>0</td>\n",
       "      <td>1</td>\n",
       "      <td>0</td>\n",
       "      <td>0</td>\n",
       "      <td>0</td>\n",
       "      <td>0</td>\n",
       "      <td>0</td>\n",
       "      <td>0</td>\n",
       "      <td>1</td>\n",
       "    </tr>\n",
       "  </tbody>\n",
       "</table>\n",
       "</div>"
      ],
      "text/plain": [
       "   PassengerId  IsFirstClass  IsSecondClass   Age  SibSp  Parch  NormFare  \\\n",
       "0          892             0              0  34.5      0      0  2.178064   \n",
       "1          893             0              0  47.0      1      0  2.079442   \n",
       "2          894             0              1  62.0      0      0  2.369075   \n",
       "3          895             0              0  27.0      0      0  2.268252   \n",
       "4          896             0              0  22.0      1      1  2.586824   \n",
       "\n",
       "   IsTitleMiss  IsTitleMr  IsTitleMrs  IsTitleMs  IsTitleOther  IsTitleRev  \\\n",
       "0            0          1           0          0             0           0   \n",
       "1            0          0           1          0             0           0   \n",
       "2            0          1           0          0             0           0   \n",
       "3            0          1           0          0             0           0   \n",
       "4            0          0           1          0             0           0   \n",
       "\n",
       "   HasCabin  Is_male  EmbarkedQ  EmbarkedS  \n",
       "0         0        1          1          0  \n",
       "1         0        0          0          1  \n",
       "2         0        1          1          0  \n",
       "3         0        1          0          1  \n",
       "4         0        0          0          1  "
      ]
     },
     "execution_count": 37,
     "metadata": {},
     "output_type": "execute_result"
    }
   ],
   "source": [
    "processed_data_test.head()"
   ]
  },
  {
   "cell_type": "markdown",
   "id": "defa79d3",
   "metadata": {},
   "source": [
    "### 2.2 Listing variables"
   ]
  },
  {
   "cell_type": "code",
   "execution_count": 38,
   "id": "e866b7e2",
   "metadata": {},
   "outputs": [
    {
     "name": "stdout",
     "output_type": "stream",
     "text": [
      "Number of trainable variables = 16\n",
      "0. IsFirstClass\n",
      "1. IsSecondClass\n",
      "2. Age\n",
      "3. SibSp\n",
      "4. Parch\n",
      "5. NormFare\n",
      "6. IsTitleMiss\n",
      "7. IsTitleMr\n",
      "8. IsTitleMrs\n",
      "9. IsTitleMs\n",
      "10. IsTitleOther\n",
      "11. IsTitleRev\n",
      "12. HasCabin\n",
      "13. Is_male\n",
      "14. EmbarkedQ\n",
      "15. EmbarkedS\n"
     ]
    }
   ],
   "source": [
    "# Listing variables\n",
    "\n",
    "variables = list(processed_data_test.columns)\n",
    "variables.remove('PassengerId')\n",
    "\n",
    "print('Number of trainable variables = {}'.format(len(variables)))\n",
    "for i, var in enumerate(variables):\n",
    "    print('{}. {}'.format(i, var))"
   ]
  },
  {
   "cell_type": "markdown",
   "id": "581edc67",
   "metadata": {},
   "source": [
    "### 2.3 Correlation Matrix"
   ]
  },
  {
   "cell_type": "code",
   "execution_count": 39,
   "id": "eb8c1c0c",
   "metadata": {},
   "outputs": [
    {
     "data": {
      "text/plain": [
       "[Text(0.5, 0, 'PassengerId'),\n",
       " Text(1.5, 0, 'Survived'),\n",
       " Text(2.5, 0, 'IsFirstClass'),\n",
       " Text(3.5, 0, 'IsSecondClass'),\n",
       " Text(4.5, 0, 'Age'),\n",
       " Text(5.5, 0, 'SibSp'),\n",
       " Text(6.5, 0, 'Parch'),\n",
       " Text(7.5, 0, 'NormFare'),\n",
       " Text(8.5, 0, 'IsTitleMiss'),\n",
       " Text(9.5, 0, 'IsTitleMr'),\n",
       " Text(10.5, 0, 'IsTitleMrs'),\n",
       " Text(11.5, 0, 'IsTitleMs'),\n",
       " Text(12.5, 0, 'IsTitleOther'),\n",
       " Text(13.5, 0, 'IsTitleRev'),\n",
       " Text(14.5, 0, 'HasCabin'),\n",
       " Text(15.5, 0, 'Is_male'),\n",
       " Text(16.5, 0, 'EmbarkedQ'),\n",
       " Text(17.5, 0, 'EmbarkedS')]"
      ]
     },
     "execution_count": 39,
     "metadata": {},
     "output_type": "execute_result"
    },
    {
     "data": {
      "image/png": "[encoded data removed]",
      "text/plain": [
       "<Figure size 1440x1440 with 2 Axes>"
      ]
     },
     "metadata": {
      "needs_background": "light"
     },
     "output_type": "display_data"
    }
   ],
   "source": [
    "# Correlations\n",
    "fig = plt.figure(figsize=(20, 20))\n",
    "res = sns.heatmap(\n",
    "    processed_data_train.corr(),\n",
    "    annot = True,\n",
    "    fmt = '.2f',\n",
    "    cmap = 'coolwarm'\n",
    ")\n",
    "res.set_yticklabels(res.get_ymajorticklabels(), fontsize = 18)\n",
    "res.set_xticklabels(res.get_xmajorticklabels(), fontsize = 18)"
   ]
  },
  {
   "cell_type": "markdown",
   "id": "bcadde6d",
   "metadata": {},
   "source": [
    "***\n",
    "#### Notes\n",
    "- Unsurprsingly, *Is_male* is strongly correlated with *IsTitleMr*.\n",
    "***"
   ]
  },
  {
   "cell_type": "markdown",
   "id": "fd3c9180",
   "metadata": {},
   "source": [
    "<a id='model_building'></a>\n",
    "## 3. Building and evaluating models "
   ]
  },
  {
   "cell_type": "markdown",
   "id": "e9e41792",
   "metadata": {},
   "source": [
    "### 3.1 Preparing data\n",
    "***\n",
    "#### Steps\n",
    "- Selecting columns and creating X and y arrays\n",
    "- Sppliting data into train and test\n",
    "- Rescaling data using StandardScaler\n",
    "***"
   ]
  },
  {
   "cell_type": "code",
   "execution_count": 40,
   "id": "6775deb5",
   "metadata": {},
   "outputs": [],
   "source": [
    "X = processed_data_train.drop(columns=['PassengerId', 'Survived'])\n",
    "y = processed_data_train['Survived']"
   ]
  },
  {
   "cell_type": "code",
   "execution_count": 41,
   "id": "8e062dd2",
   "metadata": {},
   "outputs": [],
   "source": [
    "from sklearn.model_selection import train_test_split\n",
    "from sklearn.preprocessing import StandardScaler\n",
    "from sklearn.model_selection import (\n",
    "    GridSearchCV,\n",
    "    validation_curve,\n",
    "    learning_curve\n",
    ")\n",
    "from copy import copy"
   ]
  },
  {
   "cell_type": "code",
   "execution_count": 42,
   "id": "8343550b",
   "metadata": {},
   "outputs": [],
   "source": [
    "X_train, X_test, y_train, y_test = train_test_split(\n",
    "    X,\n",
    "    y,\n",
    "    test_size=0.2,\n",
    "    random_state=3\n",
    ")"
   ]
  },
  {
   "cell_type": "code",
   "execution_count": 43,
   "id": "10fc329f",
   "metadata": {},
   "outputs": [],
   "source": [
    "scaler = StandardScaler().fit(X_train)\n",
    "X_train_std = scaler.transform(X_train)\n",
    "X_test_std = scaler.transform(X_test)"
   ]
  },
  {
   "cell_type": "markdown",
   "id": "aeac9aa3",
   "metadata": {},
   "source": [
    "### 3.2 Buiilding models\n",
    "***\n",
    "The plan is to test a number of classification models and select one based on their performance.\n",
    "\n",
    "#### List of classifiers\n",
    "- Logistic Regression\n",
    "- SVM\n",
    "- Random Forest\n",
    "- Gradient Boosting\n",
    "- KNN\n",
    "\n",
    "#### Steps\n",
    "- For each classifier, a grid search will be first performed, scanning a non-extensive grid of parameters. For the sake of simplicity, I will not focus on performing the most complete grid search, but I will only choose a reasonable range of the most important parameters. The best estimator for it classifier and the best parameters will be store into the dict *results*. The grid search will be done with the function *perform_grid_search* defined below.\n",
    "- A learning curve will be raised in order to validate the model. \n",
    "- The validation score will be evaluated by using the calculations done to raise the learning curve. Both the learning curve and the test score steps will be done with the function *get_test_cv_score_and_plot_learning_curve*. The validation scores and its error will be stored into the dict *results*.\n",
    "***"
   ]
  },
  {
   "cell_type": "code",
   "execution_count": 44,
   "id": "d8ccc12a",
   "metadata": {},
   "outputs": [],
   "source": [
    "def perform_grid_search(X_in, y_in, classifier, **parameters):\n",
    "    '''\n",
    "    Parameters\n",
    "    ----------\n",
    "    X_in: DataFrame\n",
    "        X data\n",
    "    y_in: DataFrame\n",
    "        y data\n",
    "    classifier: sklearn class\n",
    "        Classsifier to be evaluated\n",
    "    **parameters\n",
    "        Parameters to be scanned by the grid search\n",
    "        \n",
    "    Returns\n",
    "    -------\n",
    "    (best estimator, best parameters)\n",
    "    '''\n",
    "    gs = GridSearchCV(\n",
    "        classifier(),\n",
    "        param_grid=parameters,\n",
    "        n_jobs=-1,\n",
    "        cv=5\n",
    "    )\n",
    "    gs.fit(X_in, y_in)\n",
    "    print('BestParameters = {}'.format(gs.best_params_))\n",
    "    print('BestScore = {:.4f}'.format(gs.best_score_)) \n",
    "    return copy(gs.best_estimator_), gs.best_params_"
   ]
  },
  {
   "cell_type": "code",
   "execution_count": 45,
   "id": "4450fb93",
   "metadata": {},
   "outputs": [],
   "source": [
    "def get_test_cv_score_and_plot_learning_curve(X_in, y_in, classifier, ax=None):\n",
    "    ''' Raise and plot learning curve and return the test score with its error.\n",
    "    \n",
    "    Parameters\n",
    "    ----------\n",
    "    X_in: DataFrame\n",
    "        X data\n",
    "    y_in: DataFrame\n",
    "        y data\n",
    "    classifier: sklearn class\n",
    "        Classsifier to be evaluated\n",
    "    ax: plt.Axis\n",
    "        Optional\n",
    "\n",
    "    Returns\n",
    "    -------\n",
    "    (mean test score, std test score)\n",
    "    '''\n",
    "    train_sizes, train_scores, test_scores = learning_curve(\n",
    "        estimator=classifier,\n",
    "        X=X_in,\n",
    "        y=y_in,\n",
    "        train_sizes=np.linspace(0.1, 1, 10),\n",
    "        cv=5\n",
    "    )\n",
    "    train_score_mean = np.mean(train_scores, axis=1)\n",
    "    test_score_mean = np.mean(test_scores, axis=1)\n",
    "    train_score_std = np.std(train_scores, axis=1)\n",
    "    test_score_std = np.std(test_scores, axis=1)\n",
    "    \n",
    "    if ax is None:\n",
    "        ax = plt.gca()\n",
    "\n",
    "    COLORS = {'train': 'r', 'test': 'b'}\n",
    "    \n",
    "    ax.plot(train_sizes, train_score_mean, color=COLORS['train'], linestyle='none',\n",
    "            marker='o', label='train')\n",
    "    plt.fill_between(train_sizes, train_score_mean + train_score_std,\n",
    "                     train_score_mean - train_score_std, alpha=0.15,\n",
    "                     color=COLORS['train'])\n",
    "    ax.plot(train_sizes, test_score_mean, color=COLORS['test'], linestyle='none',\n",
    "            marker='s', label='test')\n",
    "    plt.fill_between(train_sizes, test_score_mean + test_score_std,\n",
    "                     test_score_mean - test_score_std, alpha=0.15,\n",
    "                     color=COLORS['test'])\n",
    "    ax.legend()\n",
    "    ax.set_xlabel('train size')\n",
    "    ax.set_ylabel('score')\n",
    "    \n",
    "    score_text = 'ValidationScore = {:.3f}+/-{:.3f}'.format(test_score_mean[-1],\n",
    "                                                      test_score_std[-1])\n",
    "    ax.set_title(score_text)\n",
    "    return test_score_mean[-1], test_score_std[-1]"
   ]
  },
  {
   "cell_type": "code",
   "execution_count": 46,
   "id": "f40ca75e",
   "metadata": {},
   "outputs": [],
   "source": [
    "results = dict()"
   ]
  },
  {
   "cell_type": "markdown",
   "id": "575ce55a",
   "metadata": {},
   "source": [
    "#### 3.2.1 Logistic Regression (LR)"
   ]
  },
  {
   "cell_type": "code",
   "execution_count": 47,
   "id": "3ab473ea",
   "metadata": {},
   "outputs": [],
   "source": [
    "from sklearn.linear_model import LogisticRegression"
   ]
  },
  {
   "cell_type": "code",
   "execution_count": 48,
   "id": "a169e557",
   "metadata": {},
   "outputs": [],
   "source": [
    "results['LR'] = dict()"
   ]
  },
  {
   "cell_type": "code",
   "execution_count": 49,
   "id": "7cd864b8",
   "metadata": {},
   "outputs": [
    {
     "name": "stdout",
     "output_type": "stream",
     "text": [
      "BestParameters = {'C': 1.0, 'class_weight': None, 'penalty': 'l2'}\n",
      "BestScore = 0.8301\n"
     ]
    }
   ],
   "source": [
    "results['LR']['estimator'], results['LR']['pars'] = perform_grid_search(\n",
    "    X_train_std,\n",
    "    y_train,\n",
    "    LogisticRegression,\n",
    "    C=[0.01, 0.1, 1.0, 10, 100],\n",
    "    class_weight=['balanced', None],\n",
    "    penalty=['l2']\n",
    ")"
   ]
  },
  {
   "cell_type": "code",
   "execution_count": 50,
   "id": "503d1a2b",
   "metadata": {},
   "outputs": [
    {
     "data": {
      "image/png": "[encoded data removed]",
      "text/plain": [
       "<Figure size 432x288 with 1 Axes>"
      ]
     },
     "metadata": {
      "needs_background": "light"
     },
     "output_type": "display_data"
    }
   ],
   "source": [
    "results['LR']['validation_score'] = get_test_cv_score_and_plot_learning_curve(\n",
    "    X_train_std,\n",
    "    y_train,\n",
    "    results['LR']['estimator']\n",
    ")"
   ]
  },
  {
   "cell_type": "code",
   "execution_count": 51,
   "id": "f1aa8145",
   "metadata": {},
   "outputs": [],
   "source": [
    "results['LR']['test_score'] = results['LR']['estimator'].score(X_test_std, y_test)"
   ]
  },
  {
   "cell_type": "markdown",
   "id": "9d33c9e8",
   "metadata": {},
   "source": [
    "#### 3.2.2 SVM"
   ]
  },
  {
   "cell_type": "code",
   "execution_count": 52,
   "id": "459be6f5",
   "metadata": {},
   "outputs": [],
   "source": [
    "from sklearn.svm import SVC"
   ]
  },
  {
   "cell_type": "code",
   "execution_count": 53,
   "id": "edc4eeca",
   "metadata": {},
   "outputs": [],
   "source": [
    "results['SVM'] = dict()"
   ]
  },
  {
   "cell_type": "code",
   "execution_count": 54,
   "id": "59b9618e",
   "metadata": {},
   "outputs": [
    {
     "name": "stdout",
     "output_type": "stream",
     "text": [
      "BestParameters = {'C': 10, 'class_weight': 'balanced', 'kernel': 'rbf'}\n",
      "BestScore = 0.8287\n"
     ]
    }
   ],
   "source": [
    "results['SVM']['estimator'], results['SVM']['pars'] = perform_grid_search(\n",
    "    X_train_std,\n",
    "    y_train,\n",
    "    SVC,\n",
    "    C=[0.01, 0.1, 1, 10, 100],\n",
    "    #kernel=['linear', 'poly', 'rbf', 'sigmoid'],\n",
    "    kernel=['rbf'],\n",
    "    class_weight=['balanced', None]\n",
    ")"
   ]
  },
  {
   "cell_type": "code",
   "execution_count": 55,
   "id": "50439bdf",
   "metadata": {},
   "outputs": [
    {
     "data": {
      "image/png": "[encoded data removed]",
      "text/plain": [
       "<Figure size 432x288 with 1 Axes>"
      ]
     },
     "metadata": {
      "needs_background": "light"
     },
     "output_type": "display_data"
    }
   ],
   "source": [
    "results['SVM']['validation_score'] = get_test_cv_score_and_plot_learning_curve(\n",
    "    X_train_std,\n",
    "    y_train,\n",
    "    results['SVM']['estimator']\n",
    ")"
   ]
  },
  {
   "cell_type": "code",
   "execution_count": 56,
   "id": "7f853469",
   "metadata": {},
   "outputs": [],
   "source": [
    "results['SVM']['test_score'] = results['SVM']['estimator'].score(X_test_std, y_test)"
   ]
  },
  {
   "cell_type": "markdown",
   "id": "5fe8153c",
   "metadata": {},
   "source": [
    "#### 3.2.3 Random Forest (RF)"
   ]
  },
  {
   "cell_type": "code",
   "execution_count": 57,
   "id": "02dd3d74",
   "metadata": {},
   "outputs": [],
   "source": [
    "from sklearn.ensemble import RandomForestClassifier"
   ]
  },
  {
   "cell_type": "code",
   "execution_count": 58,
   "id": "e7e0b5fd",
   "metadata": {},
   "outputs": [],
   "source": [
    "results['RF'] = dict()"
   ]
  },
  {
   "cell_type": "code",
   "execution_count": 59,
   "id": "38a31087",
   "metadata": {},
   "outputs": [
    {
     "name": "stdout",
     "output_type": "stream",
     "text": [
      "BestParameters = {'max_depth': 6}\n",
      "BestScore = 0.8287\n"
     ]
    }
   ],
   "source": [
    "results['RF']['estimator'], results['RF']['pars'] = perform_grid_search(\n",
    "    X_train_std,\n",
    "    y_train,\n",
    "    RandomForestClassifier,\n",
    "    max_depth=[4, 5, 6]\n",
    ")"
   ]
  },
  {
   "cell_type": "code",
   "execution_count": 60,
   "id": "cdce2fa4",
   "metadata": {},
   "outputs": [
    {
     "data": {
      "image/png": "[encoded data removed]",
      "text/plain": [
       "<Figure size 432x288 with 1 Axes>"
      ]
     },
     "metadata": {
      "needs_background": "light"
     },
     "output_type": "display_data"
    }
   ],
   "source": [
    "results['RF']['validation_score'] = get_test_cv_score_and_plot_learning_curve(\n",
    "    X_train_std,\n",
    "    y_train,\n",
    "    results['RF']['estimator']\n",
    ")"
   ]
  },
  {
   "cell_type": "code",
   "execution_count": 61,
   "id": "7928fe77",
   "metadata": {},
   "outputs": [],
   "source": [
    "results['RF']['test_score'] = results['RF']['estimator'].score(X_test_std, y_test)"
   ]
  },
  {
   "cell_type": "code",
   "execution_count": 62,
   "id": "a48328c9",
   "metadata": {},
   "outputs": [
    {
     "data": {
      "text/plain": [
       "<AxesSubplot:xlabel='importance', ylabel='feature'>"
      ]
     },
     "execution_count": 62,
     "metadata": {},
     "output_type": "execute_result"
    },
    {
     "data": {
      "image/png": "[encoded data removed]",
      "text/plain": [
       "<Figure size 432x288 with 1 Axes>"
      ]
     },
     "metadata": {
      "needs_background": "light"
     },
     "output_type": "display_data"
    }
   ],
   "source": [
    "# Plotting feature importances\n",
    "feat_imp = pd.DataFrame({\n",
    "    'importance': results['RF']['estimator'].feature_importances_,\n",
    "    'feature': X_train.columns}\n",
    ")\n",
    "order_reversed = feat_imp.sort_values('importance').feature[::-1]\n",
    "sns.barplot(\n",
    "    x='importance',\n",
    "    y='feature',\n",
    "    data=feat_imp,\n",
    "    order=order_reversed\n",
    ")"
   ]
  },
  {
   "cell_type": "markdown",
   "id": "e2cbe4ca",
   "metadata": {},
   "source": [
    "#### 3.2.4 Gradient Boosting (GB)"
   ]
  },
  {
   "cell_type": "code",
   "execution_count": 63,
   "id": "241bce86",
   "metadata": {},
   "outputs": [],
   "source": [
    "from sklearn.ensemble import GradientBoostingClassifier"
   ]
  },
  {
   "cell_type": "code",
   "execution_count": 64,
   "id": "fc717f96",
   "metadata": {},
   "outputs": [],
   "source": [
    "results['GB'] = dict()"
   ]
  },
  {
   "cell_type": "code",
   "execution_count": 65,
   "id": "32f56580",
   "metadata": {},
   "outputs": [
    {
     "name": "stdout",
     "output_type": "stream",
     "text": [
      "BestParameters = {'max_depth': 4}\n",
      "BestScore = 0.8512\n"
     ]
    }
   ],
   "source": [
    "results['GB']['estimator'], results['GB']['pars'] = perform_grid_search(\n",
    "    X_train_std,\n",
    "    y_train,\n",
    "    GradientBoostingClassifier,\n",
    "    max_depth=[3, 4, 5, 6]\n",
    ")"
   ]
  },
  {
   "cell_type": "code",
   "execution_count": 66,
   "id": "b3c05936",
   "metadata": {},
   "outputs": [
    {
     "data": {
      "image/png": "[encoded data removed]",
      "text/plain": [
       "<Figure size 432x288 with 1 Axes>"
      ]
     },
     "metadata": {
      "needs_background": "light"
     },
     "output_type": "display_data"
    }
   ],
   "source": [
    "results['GB']['validation_score'] = get_test_cv_score_and_plot_learning_curve(\n",
    "    X_train_std,\n",
    "    y_train,\n",
    "    results['GB']['estimator']\n",
    ")"
   ]
  },
  {
   "cell_type": "code",
   "execution_count": 67,
   "id": "766b74a4",
   "metadata": {},
   "outputs": [],
   "source": [
    "results['GB']['test_score'] = results['GB']['estimator'].score(X_test_std, y_test)"
   ]
  },
  {
   "cell_type": "markdown",
   "id": "80aede6a",
   "metadata": {},
   "source": [
    "#### 3.2.5 KNN"
   ]
  },
  {
   "cell_type": "code",
   "execution_count": 68,
   "id": "39ae5c90",
   "metadata": {},
   "outputs": [],
   "source": [
    "from sklearn.neighbors import KNeighborsClassifier"
   ]
  },
  {
   "cell_type": "code",
   "execution_count": 69,
   "id": "7ceac163",
   "metadata": {},
   "outputs": [],
   "source": [
    "results['KNN'] = dict()"
   ]
  },
  {
   "cell_type": "code",
   "execution_count": 70,
   "id": "909603e6",
   "metadata": {},
   "outputs": [
    {
     "name": "stdout",
     "output_type": "stream",
     "text": [
      "BestParameters = {'n_neighbors': 3, 'weights': 'uniform'}\n",
      "BestScore = 0.8260\n"
     ]
    }
   ],
   "source": [
    "results['KNN']['estimator'], results['KNN']['pars'] = perform_grid_search(\n",
    "    X_train_std,\n",
    "    y_train,\n",
    "    KNeighborsClassifier,\n",
    "    n_neighbors=[3, 4, 5, 6, 7, 8],\n",
    "    weights=['uniform', 'distance']\n",
    ")"
   ]
  },
  {
   "cell_type": "code",
   "execution_count": 71,
   "id": "47db153e",
   "metadata": {},
   "outputs": [
    {
     "data": {
      "image/png": "[encoded data removed]",
      "text/plain": [
       "<Figure size 432x288 with 1 Axes>"
      ]
     },
     "metadata": {
      "needs_background": "light"
     },
     "output_type": "display_data"
    }
   ],
   "source": [
    "results['KNN']['validation_score'] = get_test_cv_score_and_plot_learning_curve(\n",
    "    X_train_std,\n",
    "    y_train,\n",
    "    results['KNN']['estimator']\n",
    ")"
   ]
  },
  {
   "cell_type": "code",
   "execution_count": 72,
   "id": "0b074797",
   "metadata": {},
   "outputs": [],
   "source": [
    "results['KNN']['test_score'] = results['KNN']['estimator'].score(X_test_std, y_test)"
   ]
  },
  {
   "cell_type": "markdown",
   "id": "5004209c",
   "metadata": {},
   "source": [
    "<a id='model_selection'></a>\n",
    "## 4. Selecting the best model"
   ]
  },
  {
   "cell_type": "markdown",
   "id": "4344dc50",
   "metadata": {},
   "source": [
    "***\n",
    "I will first compare the validation and the test score of all models.\n",
    "***"
   ]
  },
  {
   "cell_type": "code",
   "execution_count": 73,
   "id": "3e0317e6",
   "metadata": {},
   "outputs": [
    {
     "name": "stdout",
     "output_type": "stream",
     "text": [
      "Model | Validation Score | Test Score\n",
      "LR | 0.830+/-0.038 | 0.782\n",
      "SVM | 0.829+/-0.027 | 0.771\n",
      "RF | 0.827+/-0.032 | 0.799\n",
      "GB | 0.846+/-0.032 | 0.810\n",
      "KNN | 0.826+/-0.043 | 0.804\n"
     ]
    }
   ],
   "source": [
    "print('Model | Validation Score | Test Score') \n",
    "for key, value in results.items():\n",
    "    print('{} | {:.3f}+/-{:.3f} | {:.3f}'.format(\n",
    "        key, \n",
    "        value['validation_score'][0],\n",
    "        value['validation_score'][1],\n",
    "        value['test_score']\n",
    "    ))"
   ]
  },
  {
   "cell_type": "markdown",
   "id": "e004fcd5",
   "metadata": {},
   "source": [
    "***\n",
    "#### Conclusion\n",
    "The validation scores look **very similar** for all models. Basically they all agree within uncertainties. There is no strong reason to pick any of these models since the perfomance is very similar and they are all relatively simple algorithms.\n",
    "I choose the **Logistic Regression** to apply at the test data. It is a easy model to explain and very simple in terms of hyper-parameters to tune. The learning curve also seemed well behaved, no sign of overtraining. \n",
    "***"
   ]
  },
  {
   "cell_type": "markdown",
   "id": "8c3c38f1",
   "metadata": {},
   "source": [
    "<a id='model_applying'></a>\n",
    "## 5. Applying best model to test data"
   ]
  },
  {
   "cell_type": "code",
   "execution_count": 74,
   "id": "ac4460b0",
   "metadata": {},
   "outputs": [],
   "source": [
    "best_clf = results['LR']['estimator']"
   ]
  },
  {
   "cell_type": "code",
   "execution_count": 75,
   "id": "f5d3ad67",
   "metadata": {},
   "outputs": [],
   "source": [
    "# Preparing data\n",
    "X_test = processed_data_test.drop(columns='PassengerId')\n",
    "X_test_std = scaler.transform(X_test)"
   ]
  },
  {
   "cell_type": "code",
   "execution_count": 76,
   "id": "d027dd47",
   "metadata": {},
   "outputs": [],
   "source": [
    "# Calculating predictions\n",
    "y_pred = best_clf.predict(X_test_std)"
   ]
  },
  {
   "cell_type": "code",
   "execution_count": 77,
   "id": "3b284e85",
   "metadata": {},
   "outputs": [],
   "source": [
    "# Preparing output\n",
    "data_submission = pd.DataFrame({'Survived': y_pred})\n",
    "data_submission['PassengerId'] = processed_data_test['PassengerId']"
   ]
  },
  {
   "cell_type": "code",
   "execution_count": 78,
   "id": "c25c074f",
   "metadata": {},
   "outputs": [
    {
     "data": {
      "text/html": [
       "<div>\n",
       "<style scoped>\n",
       "    .dataframe tbody tr th:only-of-type {\n",
       "        vertical-align: middle;\n",
       "    }\n",
       "\n",
       "    .dataframe tbody tr th {\n",
       "        vertical-align: top;\n",
       "    }\n",
       "\n",
       "    .dataframe thead th {\n",
       "        text-align: right;\n",
       "    }\n",
       "</style>\n",
       "<table border=\"1\" class=\"dataframe\">\n",
       "  <thead>\n",
       "    <tr style=\"text-align: right;\">\n",
       "      <th></th>\n",
       "      <th>Survived</th>\n",
       "      <th>PassengerId</th>\n",
       "    </tr>\n",
       "  </thead>\n",
       "  <tbody>\n",
       "    <tr>\n",
       "      <th>0</th>\n",
       "      <td>0</td>\n",
       "      <td>892</td>\n",
       "    </tr>\n",
       "    <tr>\n",
       "      <th>1</th>\n",
       "      <td>0</td>\n",
       "      <td>893</td>\n",
       "    </tr>\n",
       "    <tr>\n",
       "      <th>2</th>\n",
       "      <td>0</td>\n",
       "      <td>894</td>\n",
       "    </tr>\n",
       "    <tr>\n",
       "      <th>3</th>\n",
       "      <td>0</td>\n",
       "      <td>895</td>\n",
       "    </tr>\n",
       "    <tr>\n",
       "      <th>4</th>\n",
       "      <td>1</td>\n",
       "      <td>896</td>\n",
       "    </tr>\n",
       "  </tbody>\n",
       "</table>\n",
       "</div>"
      ],
      "text/plain": [
       "   Survived  PassengerId\n",
       "0         0          892\n",
       "1         0          893\n",
       "2         0          894\n",
       "3         0          895\n",
       "4         1          896"
      ]
     },
     "execution_count": 78,
     "metadata": {},
     "output_type": "execute_result"
    }
   ],
   "source": [
    "data_submission.head()"
   ]
  },
  {
   "cell_type": "code",
   "execution_count": 79,
   "id": "9dd56650",
   "metadata": {},
   "outputs": [],
   "source": [
    "data_submission.to_csv('submission.csv', index=False)"
   ]
  }
 ],
 "metadata": {
  "kernelspec": {
   "display_name": "Python 3 (ipykernel)",
   "language": "python",
   "name": "python3"
  },
  "language_info": {
   "codemirror_mode": {
    "name": "ipython",
    "version": 3
   },
   "file_extension": ".py",
   "mimetype": "text/x-python",
   "name": "python",
   "nbconvert_exporter": "python",
   "pygments_lexer": "ipython3",
   "version": "3.9.7"
  }
 },
 "nbformat": 4,
 "nbformat_minor": 5
}
